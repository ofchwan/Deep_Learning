{
  "nbformat": 4,
  "nbformat_minor": 0,
  "metadata": {
    "colab": {
      "provenance": [],
      "gpuType": "T4",
      "toc_visible": true,
      "authorship_tag": "ABX9TyM3jSJcJZFM1y1hi3L7FI00",
      "include_colab_link": true
    },
    "kernelspec": {
      "name": "python3",
      "display_name": "Python 3"
    },
    "language_info": {
      "name": "python"
    },
    "accelerator": "GPU"
  },
  "cells": [
    {
      "cell_type": "markdown",
      "metadata": {
        "id": "view-in-github",
        "colab_type": "text"
      },
      "source": [
        "<a href=\"https://colab.research.google.com/github/ofchwan/Deep_Learning/blob/main/Chapter4.ipynb\" target=\"_parent\"><img src=\"https://colab.research.google.com/assets/colab-badge.svg\" alt=\"Open In Colab\"/></a>"
      ]
    },
    {
      "cell_type": "markdown",
      "source": [
        "# 케라스 창시자에게 배우는 딥러닝\n",
        "## 4. 신경망 시작하기: 분류와 회귀"
      ],
      "metadata": {
        "id": "8R45FjjLobMe"
      }
    },
    {
      "cell_type": "markdown",
      "source": [
        "### 4.1 영화 리뷰 분류 : 이진 분류 문제"
      ],
      "metadata": {
        "id": "H74QL79fojaJ"
      }
    },
    {
      "cell_type": "code",
      "source": [
        "# 데이터 load\n",
        "\n",
        "from tensorflow.keras.datasets import imdb\n",
        "(train_data, train_labels), (test_data, test_labels) = imdb.load_data(num_words = 10000)"
      ],
      "metadata": {
        "id": "bWyHXcLboh1_",
        "colab": {
          "base_uri": "https://localhost:8080/"
        },
        "outputId": "9d65d13c-61a5-496a-8e33-b694db6073fd"
      },
      "execution_count": 1,
      "outputs": [
        {
          "output_type": "stream",
          "name": "stdout",
          "text": [
            "Downloading data from https://storage.googleapis.com/tensorflow/tf-keras-datasets/imdb.npz\n",
            "17464789/17464789 [==============================] - 1s 0us/step\n"
          ]
        }
      ]
    },
    {
      "cell_type": "markdown",
      "source": [
        "* data에 포함된 리뷰는 단어의 인덱스(단어 시퀀스가 인코딩된 것)의 리스트로 구성되어 있음\n",
        "* label은 부정(negativa, 0), 긍정(positive, 1)로 구성"
      ],
      "metadata": {
        "id": "MqXZlA01pU6A"
      }
    },
    {
      "cell_type": "code",
      "source": [
        "# 인덱스 -> word (decoding)\n",
        "word_index = imdb.get_word_index()\n",
        "reverse_word_index = dict(\n",
        "    [(value, key) for (key, value) in word_index.items()]\n",
        ")\n",
        "decoded_review = \" \".join(\n",
        "    [reverse_word_index.get(i - 3, \"?\") for i in train_data[0]]\n",
        ")\n",
        "print(decoded_review)"
      ],
      "metadata": {
        "colab": {
          "base_uri": "https://localhost:8080/"
        },
        "id": "zFkTHswSo-h_",
        "outputId": "74f04ece-5c42-4da4-ab25-ac744c67ac34"
      },
      "execution_count": 2,
      "outputs": [
        {
          "output_type": "stream",
          "name": "stdout",
          "text": [
            "Downloading data from https://storage.googleapis.com/tensorflow/tf-keras-datasets/imdb_word_index.json\n",
            "1641221/1641221 [==============================] - 0s 0us/step\n",
            "? this film was just brilliant casting location scenery story direction everyone's really suited the part they played and you could just imagine being there robert ? is an amazing actor and now the same being director ? father came from the same scottish island as myself so i loved the fact there was a real connection with this film the witty remarks throughout the film were great it was just brilliant so much that i bought the film as soon as it was released for ? and would recommend it to everyone to watch and the fly fishing was amazing really cried at the end it was so sad and you know what they say if you cry at a film it must have been good and this definitely was also ? to the two little boy's that played the ? of norman and paul they were just brilliant children are often left out of the ? list i think because the stars that play them all grown up are such a big profile for the whole film but these children are amazing and should be praised for what they have done don't you think the whole story was so lovely because it was true and was someone's life after all that was shared with us all\n"
          ]
        }
      ]
    },
    {
      "cell_type": "markdown",
      "source": [
        "* 신경망을 학습시키기 위해서는 동일한 크기의 배치, 즉 텐서가 필요함\n",
        "* 리스트를 텐서로 바꾸는 방법은 두 가지\n",
        "  1. 리스트에 패딩을 추가하고 (samples, max_length) 크기의 정수 텐서로 변환\n",
        "  2. 리스트를 원-핫 인코딩하여 0 또는 1의 벡터로 변환"
      ],
      "metadata": {
        "id": "FjqufvpWp--o"
      }
    },
    {
      "cell_type": "code",
      "source": [
        "train_data"
      ],
      "metadata": {
        "colab": {
          "base_uri": "https://localhost:8080/"
        },
        "id": "0tTS-VYzu-eB",
        "outputId": "b316f48f-cf6f-491f-cf52-c4a22afe23d2"
      },
      "execution_count": 3,
      "outputs": [
        {
          "output_type": "execute_result",
          "data": {
            "text/plain": [
              "array([list([1, 14, 22, 16, 43, 530, 973, 1622, 1385, 65, 458, 4468, 66, 3941, 4, 173, 36, 256, 5, 25, 100, 43, 838, 112, 50, 670, 2, 9, 35, 480, 284, 5, 150, 4, 172, 112, 167, 2, 336, 385, 39, 4, 172, 4536, 1111, 17, 546, 38, 13, 447, 4, 192, 50, 16, 6, 147, 2025, 19, 14, 22, 4, 1920, 4613, 469, 4, 22, 71, 87, 12, 16, 43, 530, 38, 76, 15, 13, 1247, 4, 22, 17, 515, 17, 12, 16, 626, 18, 2, 5, 62, 386, 12, 8, 316, 8, 106, 5, 4, 2223, 5244, 16, 480, 66, 3785, 33, 4, 130, 12, 16, 38, 619, 5, 25, 124, 51, 36, 135, 48, 25, 1415, 33, 6, 22, 12, 215, 28, 77, 52, 5, 14, 407, 16, 82, 2, 8, 4, 107, 117, 5952, 15, 256, 4, 2, 7, 3766, 5, 723, 36, 71, 43, 530, 476, 26, 400, 317, 46, 7, 4, 2, 1029, 13, 104, 88, 4, 381, 15, 297, 98, 32, 2071, 56, 26, 141, 6, 194, 7486, 18, 4, 226, 22, 21, 134, 476, 26, 480, 5, 144, 30, 5535, 18, 51, 36, 28, 224, 92, 25, 104, 4, 226, 65, 16, 38, 1334, 88, 12, 16, 283, 5, 16, 4472, 113, 103, 32, 15, 16, 5345, 19, 178, 32]),\n",
              "       list([1, 194, 1153, 194, 8255, 78, 228, 5, 6, 1463, 4369, 5012, 134, 26, 4, 715, 8, 118, 1634, 14, 394, 20, 13, 119, 954, 189, 102, 5, 207, 110, 3103, 21, 14, 69, 188, 8, 30, 23, 7, 4, 249, 126, 93, 4, 114, 9, 2300, 1523, 5, 647, 4, 116, 9, 35, 8163, 4, 229, 9, 340, 1322, 4, 118, 9, 4, 130, 4901, 19, 4, 1002, 5, 89, 29, 952, 46, 37, 4, 455, 9, 45, 43, 38, 1543, 1905, 398, 4, 1649, 26, 6853, 5, 163, 11, 3215, 2, 4, 1153, 9, 194, 775, 7, 8255, 2, 349, 2637, 148, 605, 2, 8003, 15, 123, 125, 68, 2, 6853, 15, 349, 165, 4362, 98, 5, 4, 228, 9, 43, 2, 1157, 15, 299, 120, 5, 120, 174, 11, 220, 175, 136, 50, 9, 4373, 228, 8255, 5, 2, 656, 245, 2350, 5, 4, 9837, 131, 152, 491, 18, 2, 32, 7464, 1212, 14, 9, 6, 371, 78, 22, 625, 64, 1382, 9, 8, 168, 145, 23, 4, 1690, 15, 16, 4, 1355, 5, 28, 6, 52, 154, 462, 33, 89, 78, 285, 16, 145, 95]),\n",
              "       list([1, 14, 47, 8, 30, 31, 7, 4, 249, 108, 7, 4, 5974, 54, 61, 369, 13, 71, 149, 14, 22, 112, 4, 2401, 311, 12, 16, 3711, 33, 75, 43, 1829, 296, 4, 86, 320, 35, 534, 19, 263, 4821, 1301, 4, 1873, 33, 89, 78, 12, 66, 16, 4, 360, 7, 4, 58, 316, 334, 11, 4, 1716, 43, 645, 662, 8, 257, 85, 1200, 42, 1228, 2578, 83, 68, 3912, 15, 36, 165, 1539, 278, 36, 69, 2, 780, 8, 106, 14, 6905, 1338, 18, 6, 22, 12, 215, 28, 610, 40, 6, 87, 326, 23, 2300, 21, 23, 22, 12, 272, 40, 57, 31, 11, 4, 22, 47, 6, 2307, 51, 9, 170, 23, 595, 116, 595, 1352, 13, 191, 79, 638, 89, 2, 14, 9, 8, 106, 607, 624, 35, 534, 6, 227, 7, 129, 113]),\n",
              "       ...,\n",
              "       list([1, 11, 6, 230, 245, 6401, 9, 6, 1225, 446, 2, 45, 2174, 84, 8322, 4007, 21, 4, 912, 84, 2, 325, 725, 134, 2, 1715, 84, 5, 36, 28, 57, 1099, 21, 8, 140, 8, 703, 5, 2, 84, 56, 18, 1644, 14, 9, 31, 7, 4, 9406, 1209, 2295, 2, 1008, 18, 6, 20, 207, 110, 563, 12, 8, 2901, 2, 8, 97, 6, 20, 53, 4767, 74, 4, 460, 364, 1273, 29, 270, 11, 960, 108, 45, 40, 29, 2961, 395, 11, 6, 4065, 500, 7, 2, 89, 364, 70, 29, 140, 4, 64, 4780, 11, 4, 2678, 26, 178, 4, 529, 443, 2, 5, 27, 710, 117, 2, 8123, 165, 47, 84, 37, 131, 818, 14, 595, 10, 10, 61, 1242, 1209, 10, 10, 288, 2260, 1702, 34, 2901, 2, 4, 65, 496, 4, 231, 7, 790, 5, 6, 320, 234, 2766, 234, 1119, 1574, 7, 496, 4, 139, 929, 2901, 2, 7750, 5, 4241, 18, 4, 8497, 2, 250, 11, 1818, 7561, 4, 4217, 5408, 747, 1115, 372, 1890, 1006, 541, 9303, 7, 4, 59, 2, 4, 3586, 2]),\n",
              "       list([1, 1446, 7079, 69, 72, 3305, 13, 610, 930, 8, 12, 582, 23, 5, 16, 484, 685, 54, 349, 11, 4120, 2959, 45, 58, 1466, 13, 197, 12, 16, 43, 23, 2, 5, 62, 30, 145, 402, 11, 4131, 51, 575, 32, 61, 369, 71, 66, 770, 12, 1054, 75, 100, 2198, 8, 4, 105, 37, 69, 147, 712, 75, 3543, 44, 257, 390, 5, 69, 263, 514, 105, 50, 286, 1814, 23, 4, 123, 13, 161, 40, 5, 421, 4, 116, 16, 897, 13, 2, 40, 319, 5872, 112, 6700, 11, 4803, 121, 25, 70, 3468, 4, 719, 3798, 13, 18, 31, 62, 40, 8, 7200, 4, 2, 7, 14, 123, 5, 942, 25, 8, 721, 12, 145, 5, 202, 12, 160, 580, 202, 12, 6, 52, 58, 2, 92, 401, 728, 12, 39, 14, 251, 8, 15, 251, 5, 2, 12, 38, 84, 80, 124, 12, 9, 23]),\n",
              "       list([1, 17, 6, 194, 337, 7, 4, 204, 22, 45, 254, 8, 106, 14, 123, 4, 2, 270, 2, 5, 2, 2, 732, 2098, 101, 405, 39, 14, 1034, 4, 1310, 9, 115, 50, 305, 12, 47, 4, 168, 5, 235, 7, 38, 111, 699, 102, 7, 4, 4039, 9245, 9, 24, 6, 78, 1099, 17, 2345, 2, 21, 27, 9685, 6139, 5, 2, 1603, 92, 1183, 4, 1310, 7, 4, 204, 42, 97, 90, 35, 221, 109, 29, 127, 27, 118, 8, 97, 12, 157, 21, 6789, 2, 9, 6, 66, 78, 1099, 4, 631, 1191, 5, 2642, 272, 191, 1070, 6, 7585, 8, 2197, 2, 2, 544, 5, 383, 1271, 848, 1468, 2, 497, 2, 8, 1597, 8778, 2, 21, 60, 27, 239, 9, 43, 8368, 209, 405, 10, 10, 12, 764, 40, 4, 248, 20, 12, 16, 5, 174, 1791, 72, 7, 51, 6, 1739, 22, 4, 204, 131, 9])],\n",
              "      dtype=object)"
            ]
          },
          "metadata": {},
          "execution_count": 3
        }
      ]
    },
    {
      "cell_type": "code",
      "source": [
        "# 멀티-핫 인코딩\n",
        "\n",
        "\n",
        "import numpy as np\n",
        "def vectorize_sequences(sequences, dimension = 10000):\n",
        "  results = np.zeros((len(sequences), dimension))\n",
        "  for i, sequence in enumerate(sequences):\n",
        "    # print(i, sequence)\n",
        "    for j in sequence:\n",
        "      results[i, j] = 1.\n",
        "  return results\n",
        "x_train = vectorize_sequences(train_data)\n",
        "x_test = vectorize_sequences(test_data)"
      ],
      "metadata": {
        "id": "GdytvTSQp1O4"
      },
      "execution_count": 4,
      "outputs": []
    },
    {
      "cell_type": "code",
      "source": [
        "x_train"
      ],
      "metadata": {
        "colab": {
          "base_uri": "https://localhost:8080/"
        },
        "id": "MTi5f4e3u78F",
        "outputId": "b1da0471-9403-472b-8a55-8baf549d4366"
      },
      "execution_count": 5,
      "outputs": [
        {
          "output_type": "execute_result",
          "data": {
            "text/plain": [
              "array([[0., 1., 1., ..., 0., 0., 0.],\n",
              "       [0., 1., 1., ..., 0., 0., 0.],\n",
              "       [0., 1., 1., ..., 0., 0., 0.],\n",
              "       ...,\n",
              "       [0., 1., 1., ..., 0., 0., 0.],\n",
              "       [0., 1., 1., ..., 0., 0., 0.],\n",
              "       [0., 1., 1., ..., 0., 0., 0.]])"
            ]
          },
          "metadata": {},
          "execution_count": 5
        }
      ]
    },
    {
      "cell_type": "code",
      "source": [
        "# label의 경우에는 쉽게 벡터로 바꿀 수 있음\n",
        "y_train = np.asarray(train_labels).astype('float32')\n",
        "y_test = np.asarray(test_labels).astype('float32')"
      ],
      "metadata": {
        "id": "7Iy9YQiivGE1"
      },
      "execution_count": 6,
      "outputs": []
    },
    {
      "cell_type": "markdown",
      "source": [
        "### 4.13 신경망 모델 만들기"
      ],
      "metadata": {
        "id": "ZHY6MyrQvn-P"
      }
    },
    {
      "cell_type": "code",
      "source": [
        "from tensorflow import keras\n",
        "from tensorflow.keras import layers"
      ],
      "metadata": {
        "id": "e51nZasGvhbX"
      },
      "execution_count": 7,
      "outputs": []
    },
    {
      "cell_type": "code",
      "source": [
        "model = keras.Sequential([\n",
        "    layers.Dense(16, activation = 'relu'),\n",
        "    layers.Dense(16, activation = 'relu'),\n",
        "    layers.Dense(1, activation = 'sigmoid')\n",
        "])"
      ],
      "metadata": {
        "id": "vvm1XopQv4RT"
      },
      "execution_count": 8,
      "outputs": []
    },
    {
      "cell_type": "code",
      "source": [
        "model.compile(\n",
        "    optimizer = 'rmsprop',\n",
        "    loss = 'binary_crossentropy',\n",
        "    metrics = ['accuracy']\n",
        ")"
      ],
      "metadata": {
        "id": "_KsvU7DswDni"
      },
      "execution_count": 9,
      "outputs": []
    },
    {
      "cell_type": "code",
      "source": [
        "# validation dataset\n",
        "\n",
        "x_val = x_train[:10000]\n",
        "partial_x_train = x_train[10000:]\n",
        "y_val = y_train[:10000]\n",
        "partial_y_train = y_train[10000:]"
      ],
      "metadata": {
        "id": "Jo4uSoHiwc70"
      },
      "execution_count": 10,
      "outputs": []
    },
    {
      "cell_type": "code",
      "source": [
        "history = model.fit(partial_x_train,\n",
        "                    partial_y_train,\n",
        "                    epochs = 20,\n",
        "                    batch_size = 512,\n",
        "                    validation_data = (x_val, y_val))"
      ],
      "metadata": {
        "colab": {
          "base_uri": "https://localhost:8080/"
        },
        "id": "FpikC7LjwudP",
        "outputId": "16f3ab72-6ca0-4549-d351-6c1262c15251"
      },
      "execution_count": 11,
      "outputs": [
        {
          "output_type": "stream",
          "name": "stdout",
          "text": [
            "Epoch 1/20\n",
            "30/30 [==============================] - 9s 73ms/step - loss: 0.5260 - accuracy: 0.7773 - val_loss: 0.4235 - val_accuracy: 0.8316\n",
            "Epoch 2/20\n",
            "30/30 [==============================] - 1s 24ms/step - loss: 0.3283 - accuracy: 0.8918 - val_loss: 0.3166 - val_accuracy: 0.8825\n",
            "Epoch 3/20\n",
            "30/30 [==============================] - 1s 23ms/step - loss: 0.2443 - accuracy: 0.9195 - val_loss: 0.2958 - val_accuracy: 0.8813\n",
            "Epoch 4/20\n",
            "30/30 [==============================] - 1s 22ms/step - loss: 0.1982 - accuracy: 0.9351 - val_loss: 0.2897 - val_accuracy: 0.8833\n",
            "Epoch 5/20\n",
            "30/30 [==============================] - 1s 22ms/step - loss: 0.1650 - accuracy: 0.9467 - val_loss: 0.2891 - val_accuracy: 0.8835\n",
            "Epoch 6/20\n",
            "30/30 [==============================] - 1s 22ms/step - loss: 0.1430 - accuracy: 0.9542 - val_loss: 0.2811 - val_accuracy: 0.8873\n",
            "Epoch 7/20\n",
            "30/30 [==============================] - 1s 24ms/step - loss: 0.1213 - accuracy: 0.9630 - val_loss: 0.2913 - val_accuracy: 0.8875\n",
            "Epoch 8/20\n",
            "30/30 [==============================] - 1s 23ms/step - loss: 0.1038 - accuracy: 0.9696 - val_loss: 0.3165 - val_accuracy: 0.8828\n",
            "Epoch 9/20\n",
            "30/30 [==============================] - 1s 22ms/step - loss: 0.0916 - accuracy: 0.9719 - val_loss: 0.3197 - val_accuracy: 0.8821\n",
            "Epoch 10/20\n",
            "30/30 [==============================] - 1s 24ms/step - loss: 0.0756 - accuracy: 0.9802 - val_loss: 0.3711 - val_accuracy: 0.8758\n",
            "Epoch 11/20\n",
            "30/30 [==============================] - 1s 25ms/step - loss: 0.0657 - accuracy: 0.9830 - val_loss: 0.3639 - val_accuracy: 0.8750\n",
            "Epoch 12/20\n",
            "30/30 [==============================] - 1s 21ms/step - loss: 0.0560 - accuracy: 0.9879 - val_loss: 0.4211 - val_accuracy: 0.8715\n",
            "Epoch 13/20\n",
            "30/30 [==============================] - 1s 21ms/step - loss: 0.0488 - accuracy: 0.9888 - val_loss: 0.4140 - val_accuracy: 0.8756\n",
            "Epoch 14/20\n",
            "30/30 [==============================] - 1s 21ms/step - loss: 0.0445 - accuracy: 0.9899 - val_loss: 0.4609 - val_accuracy: 0.8636\n",
            "Epoch 15/20\n",
            "30/30 [==============================] - 1s 39ms/step - loss: 0.0330 - accuracy: 0.9949 - val_loss: 0.4596 - val_accuracy: 0.8687\n",
            "Epoch 16/20\n",
            "30/30 [==============================] - 1s 29ms/step - loss: 0.0351 - accuracy: 0.9922 - val_loss: 0.4608 - val_accuracy: 0.8729\n",
            "Epoch 17/20\n",
            "30/30 [==============================] - 1s 39ms/step - loss: 0.0234 - accuracy: 0.9969 - val_loss: 0.4826 - val_accuracy: 0.8712\n",
            "Epoch 18/20\n",
            "30/30 [==============================] - 1s 28ms/step - loss: 0.0209 - accuracy: 0.9965 - val_loss: 0.5596 - val_accuracy: 0.8661\n",
            "Epoch 19/20\n",
            "30/30 [==============================] - 1s 24ms/step - loss: 0.0151 - accuracy: 0.9991 - val_loss: 0.5260 - val_accuracy: 0.8715\n",
            "Epoch 20/20\n",
            "30/30 [==============================] - 1s 23ms/step - loss: 0.0187 - accuracy: 0.9967 - val_loss: 0.5482 - val_accuracy: 0.8705\n"
          ]
        }
      ]
    },
    {
      "cell_type": "markdown",
      "source": [
        "* model.fit() 메소드는 history 객체를 반환\n",
        "* history 객체에는 훈련하는 동안의 모든 정보를 담고 있음"
      ],
      "metadata": {
        "id": "icc7hlJIw_mb"
      }
    },
    {
      "cell_type": "code",
      "source": [
        "history_dict = history.history\n",
        "history_dict.keys()"
      ],
      "metadata": {
        "colab": {
          "base_uri": "https://localhost:8080/"
        },
        "id": "DaXU_pZ-w2uR",
        "outputId": "e7112e2d-cb05-4234-9564-752cbccc52c1"
      },
      "execution_count": 12,
      "outputs": [
        {
          "output_type": "execute_result",
          "data": {
            "text/plain": [
              "dict_keys(['loss', 'accuracy', 'val_loss', 'val_accuracy'])"
            ]
          },
          "metadata": {},
          "execution_count": 12
        }
      ]
    },
    {
      "cell_type": "code",
      "source": [
        "# train, val loss\n",
        "\n",
        "import matplotlib.pyplot as plt\n",
        "\n",
        "history_dict = history.history\n",
        "loss_values = history_dict['loss']\n",
        "val_loss_values = history_dict['val_loss']\n",
        "epochs = range(1, len(loss_values) + 1)\n",
        "plt.plot(epochs, loss_values, 'bo', label = 'Training loss') # bo는 파란색 점\n",
        "plt.plot(epochs, val_loss_values, 'b', label = 'Validation loss') # bo는 파란색 실선\n",
        "plt.title('Training and Validation loss')\n",
        "plt.xlabel('Epochs')\n",
        "plt.ylabel('Loss')\n",
        "plt.legend()\n",
        "plt.show()"
      ],
      "metadata": {
        "colab": {
          "base_uri": "https://localhost:8080/",
          "height": 472
        },
        "id": "LX94czQ1xKGy",
        "outputId": "708bbe18-6b1a-4f56-9e72-ad85f550448a"
      },
      "execution_count": 13,
      "outputs": [
        {
          "output_type": "display_data",
          "data": {
            "text/plain": [
              "<Figure size 640x480 with 1 Axes>"
            ],
            "image/png": "[encoded data removed]"
          },
          "metadata": {}
        }
      ]
    },
    {
      "cell_type": "code",
      "source": [
        "plt.clf()\n",
        "acc = history_dict['accuracy']\n",
        "val_acc = history_dict['val_accuracy']\n",
        "plt.plot(epochs, acc, 'bo', label = 'Training acc')\n",
        "plt.plot(epochs, val_acc, 'b', label = 'Validation acc')\n",
        "plt.title('Training and Validation accuracy')\n",
        "plt.xlabel('Epochs')\n",
        "plt.ylabel('Accuracy')\n",
        "plt.legend()\n",
        "plt.show()"
      ],
      "metadata": {
        "colab": {
          "base_uri": "https://localhost:8080/",
          "height": 472
        },
        "id": "Uj4qENX9xya_",
        "outputId": "3d399434-0e04-447a-d6e4-755eb307622a"
      },
      "execution_count": 14,
      "outputs": [
        {
          "output_type": "display_data",
          "data": {
            "text/plain": [
              "<Figure size 640x480 with 1 Axes>"
            ],
            "image/png": "[encoded data removed]"
          },
          "metadata": {}
        }
      ]
    },
    {
      "cell_type": "code",
      "source": [
        "# 합쳐서 그려보자.\n",
        "\n",
        "plt.clf()\n",
        "plt.plot(epochs, loss_values, 'ro', label = 'Training loss')\n",
        "plt.plot(epochs, val_loss_values, 'r', label = 'Validation loss')\n",
        "plt.plot(epochs, acc, 'bo', label = 'Training acc')\n",
        "plt.plot(epochs, val_acc, 'b', label = 'Validation acc')\n",
        "plt.legend()\n",
        "plt.show()"
      ],
      "metadata": {
        "colab": {
          "base_uri": "https://localhost:8080/",
          "height": 430
        },
        "id": "PwxKd1m6yVIa",
        "outputId": "e06d773f-c6e3-40f8-85a1-15cc36b3c81f"
      },
      "execution_count": 15,
      "outputs": [
        {
          "output_type": "display_data",
          "data": {
            "text/plain": [
              "<Figure size 640x480 with 1 Axes>"
            ],
            "image/png": "[encoded data removed]"
          },
          "metadata": {}
        }
      ]
    },
    {
      "cell_type": "markdown",
      "source": [
        "* 4 epochs 부터는 overfitting 현상이 발생(val_loss 증가, val_acc 감소)"
      ],
      "metadata": {
        "id": "PmiE2pnjy0gd"
      }
    },
    {
      "cell_type": "code",
      "source": [
        "model = keras.Sequential([\n",
        "    layers.Dense(16, activation = 'relu'),\n",
        "    layers.Dense(16, activation = 'relu'),\n",
        "    layers.Dense(1, activation = 'sigmoid')\n",
        "])"
      ],
      "metadata": {
        "id": "vGzX22Hhyi_n"
      },
      "execution_count": 16,
      "outputs": []
    },
    {
      "cell_type": "code",
      "source": [
        "model.compile(\n",
        "    optimizer = 'rmsprop',\n",
        "    loss = 'binary_crossentropy',\n",
        "    metrics = ['accuracy']\n",
        ")"
      ],
      "metadata": {
        "id": "wFnFVjhizE0H"
      },
      "execution_count": 17,
      "outputs": []
    },
    {
      "cell_type": "code",
      "source": [
        "model.fit(x_train, y_train, epochs = 4, batch_size = 512)"
      ],
      "metadata": {
        "colab": {
          "base_uri": "https://localhost:8080/"
        },
        "id": "SUZ45lEazMAa",
        "outputId": "a28c310c-ef82-4d45-ef34-dc3f26ac8269"
      },
      "execution_count": 18,
      "outputs": [
        {
          "output_type": "stream",
          "name": "stdout",
          "text": [
            "Epoch 1/4\n",
            "49/49 [==============================] - 1s 14ms/step - loss: 0.4779 - accuracy: 0.8128\n",
            "Epoch 2/4\n",
            "49/49 [==============================] - 1s 14ms/step - loss: 0.2820 - accuracy: 0.9008\n",
            "Epoch 3/4\n",
            "49/49 [==============================] - 1s 13ms/step - loss: 0.2183 - accuracy: 0.9210\n",
            "Epoch 4/4\n",
            "49/49 [==============================] - 1s 13ms/step - loss: 0.1851 - accuracy: 0.9322\n"
          ]
        },
        {
          "output_type": "execute_result",
          "data": {
            "text/plain": [
              "<keras.src.callbacks.History at 0x7cc9d99ca290>"
            ]
          },
          "metadata": {},
          "execution_count": 18
        }
      ]
    },
    {
      "cell_type": "code",
      "source": [
        "results = model.evaluate(x_test, y_test)\n",
        "print('loss : ', results[0], '/ accuracy : ', results[1])"
      ],
      "metadata": {
        "colab": {
          "base_uri": "https://localhost:8080/"
        },
        "id": "yFKg8KoBzdtZ",
        "outputId": "b0bcccac-da6e-491b-bee0-4bcca35ca876"
      },
      "execution_count": 19,
      "outputs": [
        {
          "output_type": "stream",
          "name": "stdout",
          "text": [
            "782/782 [==============================] - 2s 3ms/step - loss: 0.2838 - accuracy: 0.8873\n",
            "loss :  0.28384238481521606 / accuracy :  0.8873199820518494\n"
          ]
        }
      ]
    },
    {
      "cell_type": "markdown",
      "source": [
        "### 4.2 뉴스 기사 분류: 다중 분류 문제\n",
        "* dataset : 로이터"
      ],
      "metadata": {
        "id": "GwtDEBdG0Vun"
      }
    },
    {
      "cell_type": "code",
      "source": [
        "# data load\n",
        "from tensorflow.keras.datasets import reuters\n",
        "\n",
        "(train_data, train_labels), (test_data, test_labels) = reuters.load_data(num_words = 10000)"
      ],
      "metadata": {
        "colab": {
          "base_uri": "https://localhost:8080/"
        },
        "id": "EZmOmurczk1A",
        "outputId": "b6df0f02-a0de-4c07-ba25-f9534adf3c5d"
      },
      "execution_count": 20,
      "outputs": [
        {
          "output_type": "stream",
          "name": "stdout",
          "text": [
            "Downloading data from https://storage.googleapis.com/tensorflow/tf-keras-datasets/reuters.npz\n",
            "2110848/2110848 [==============================] - 1s 0us/step\n"
          ]
        }
      ]
    },
    {
      "cell_type": "code",
      "source": [
        "len(train_data), len(test_data)"
      ],
      "metadata": {
        "colab": {
          "base_uri": "https://localhost:8080/"
        },
        "id": "f9HrtubF1oOp",
        "outputId": "1751aad6-63bb-4965-f3f0-155950a74fa7"
      },
      "execution_count": 21,
      "outputs": [
        {
          "output_type": "execute_result",
          "data": {
            "text/plain": [
              "(8982, 2246)"
            ]
          },
          "metadata": {},
          "execution_count": 21
        }
      ]
    },
    {
      "cell_type": "code",
      "source": [
        "# 각 sample은 단어 인덱스\n",
        "train_data[2]"
      ],
      "metadata": {
        "colab": {
          "base_uri": "https://localhost:8080/"
        },
        "id": "Co7-p7do1rqN",
        "outputId": "475ea946-da1f-42af-e6cc-4d601f76c246"
      },
      "execution_count": 22,
      "outputs": [
        {
          "output_type": "execute_result",
          "data": {
            "text/plain": [
              "[1,\n",
              " 53,\n",
              " 12,\n",
              " 284,\n",
              " 15,\n",
              " 14,\n",
              " 272,\n",
              " 26,\n",
              " 53,\n",
              " 959,\n",
              " 32,\n",
              " 818,\n",
              " 15,\n",
              " 14,\n",
              " 272,\n",
              " 26,\n",
              " 39,\n",
              " 684,\n",
              " 70,\n",
              " 11,\n",
              " 14,\n",
              " 12,\n",
              " 3886,\n",
              " 18,\n",
              " 180,\n",
              " 183,\n",
              " 187,\n",
              " 70,\n",
              " 11,\n",
              " 14,\n",
              " 102,\n",
              " 32,\n",
              " 11,\n",
              " 29,\n",
              " 53,\n",
              " 44,\n",
              " 704,\n",
              " 15,\n",
              " 14,\n",
              " 19,\n",
              " 758,\n",
              " 15,\n",
              " 53,\n",
              " 959,\n",
              " 47,\n",
              " 1013,\n",
              " 15,\n",
              " 14,\n",
              " 19,\n",
              " 132,\n",
              " 15,\n",
              " 39,\n",
              " 965,\n",
              " 32,\n",
              " 11,\n",
              " 14,\n",
              " 147,\n",
              " 72,\n",
              " 11,\n",
              " 180,\n",
              " 183,\n",
              " 187,\n",
              " 44,\n",
              " 11,\n",
              " 14,\n",
              " 102,\n",
              " 19,\n",
              " 11,\n",
              " 123,\n",
              " 186,\n",
              " 90,\n",
              " 67,\n",
              " 960,\n",
              " 4,\n",
              " 78,\n",
              " 13,\n",
              " 68,\n",
              " 467,\n",
              " 511,\n",
              " 110,\n",
              " 59,\n",
              " 89,\n",
              " 90,\n",
              " 67,\n",
              " 1390,\n",
              " 55,\n",
              " 2678,\n",
              " 92,\n",
              " 617,\n",
              " 80,\n",
              " 1274,\n",
              " 46,\n",
              " 905,\n",
              " 220,\n",
              " 13,\n",
              " 4,\n",
              " 346,\n",
              " 48,\n",
              " 235,\n",
              " 629,\n",
              " 5,\n",
              " 211,\n",
              " 5,\n",
              " 1118,\n",
              " 7,\n",
              " 2,\n",
              " 81,\n",
              " 5,\n",
              " 187,\n",
              " 11,\n",
              " 15,\n",
              " 9,\n",
              " 1709,\n",
              " 201,\n",
              " 5,\n",
              " 47,\n",
              " 3615,\n",
              " 18,\n",
              " 478,\n",
              " 4514,\n",
              " 5,\n",
              " 1118,\n",
              " 7,\n",
              " 232,\n",
              " 2,\n",
              " 71,\n",
              " 5,\n",
              " 160,\n",
              " 63,\n",
              " 11,\n",
              " 9,\n",
              " 2,\n",
              " 81,\n",
              " 5,\n",
              " 102,\n",
              " 59,\n",
              " 11,\n",
              " 17,\n",
              " 12]"
            ]
          },
          "metadata": {},
          "execution_count": 22
        }
      ]
    },
    {
      "cell_type": "code",
      "source": [
        "word_index = reuters.get_word_index()\n",
        "reverse_word_index = dict(\n",
        "    [(value, key) for (key, value) in word_index.items()]\n",
        ")\n",
        "decoded_newswire = \" \".join(\n",
        "    [reverse_word_index.get(i - 3, '?') for i in train_data[0]]\n",
        ")\n",
        "print(decoded_newswire)\n",
        "print(train_labels[0])"
      ],
      "metadata": {
        "colab": {
          "base_uri": "https://localhost:8080/"
        },
        "id": "HKJkwDYQ1x5E",
        "outputId": "fd303cd6-f3e9-48dc-d7a8-e0fdb8961728"
      },
      "execution_count": 23,
      "outputs": [
        {
          "output_type": "stream",
          "name": "stdout",
          "text": [
            "Downloading data from https://storage.googleapis.com/tensorflow/tf-keras-datasets/reuters_word_index.json\n",
            "550378/550378 [==============================] - 0s 1us/step\n",
            "? ? ? said as a result of its december acquisition of space co it expects earnings per share in 1987 of 1 15 to 1 30 dlrs per share up from 70 cts in 1986 the company said pretax net should rise to nine to 10 mln dlrs from six mln dlrs in 1986 and rental operation revenues to 19 to 22 mln dlrs from 12 5 mln dlrs it said cash flow per share this year should be 2 50 to three dlrs reuter 3\n",
            "3\n"
          ]
        }
      ]
    },
    {
      "cell_type": "code",
      "source": [
        "# 역시 단어 인덱스를 벡터로 변환(멀티-핫 인코딩)\n",
        "x_train = vectorize_sequences(train_data)\n",
        "x_test = vectorize_sequences(test_data)"
      ],
      "metadata": {
        "id": "e4v32vRa2HxG"
      },
      "execution_count": 24,
      "outputs": []
    },
    {
      "cell_type": "code",
      "source": [
        "# 레이블을 벡터로 변환하기(원-핫 인코딩)\n",
        "# keras 내장 함수\n",
        "\"\"\"from keras.utils.up_utils import to_categorical\n",
        "y_train = to_categorical(train_labels)\n",
        "y_test = to_categorical(test_labels)\"\"\"\n",
        "\n",
        "def to_one_hot(labels, dimension = 46):\n",
        "  results = np.zeros((len(labels), dimension))\n",
        "  for i, label in enumerate(labels):\n",
        "    results[i, label] = 1.\n",
        "  return results\n",
        "y_train = to_one_hot(train_labels)\n",
        "y_test = to_one_hot(test_labels)"
      ],
      "metadata": {
        "id": "500ftda22bRb"
      },
      "execution_count": 25,
      "outputs": []
    },
    {
      "cell_type": "markdown",
      "source": [
        "### 4.2.3 모델 구성하기"
      ],
      "metadata": {
        "id": "PxYRsQhl3IN3"
      }
    },
    {
      "cell_type": "code",
      "source": [
        "# 출력 노드가 46개이기 때문에 hidden layer의 노드 수를 늘려야함\n",
        "\n",
        "model = keras.Sequential([\n",
        "    layers.Dense(64, activation = 'relu'),\n",
        "    layers.Dense(64, activation = 'relu'),\n",
        "    layers.Dense(46, activation = 'softmax')\n",
        "])"
      ],
      "metadata": {
        "id": "UlhblZKu3Dq3"
      },
      "execution_count": 26,
      "outputs": []
    },
    {
      "cell_type": "code",
      "source": [
        "# loss function = categorical crossentropy\n",
        "\n",
        "model.compile(optimizer = 'rmsprop',\n",
        "              loss = 'categorical_crossentropy',\n",
        "              metrics = ['accuracy'])"
      ],
      "metadata": {
        "id": "lCtLRhb_wX8F"
      },
      "execution_count": 27,
      "outputs": []
    },
    {
      "cell_type": "code",
      "source": [
        "# validation datset\n",
        "\n",
        "x_val = x_train[:1000]\n",
        "partial_x_train = x_train[1000:]\n",
        "y_val = y_train[:1000]\n",
        "partial_y_train = y_train[1000:]"
      ],
      "metadata": {
        "id": "BJaI7Qz4wln5"
      },
      "execution_count": 28,
      "outputs": []
    },
    {
      "cell_type": "code",
      "source": [
        "# epochs = 20\n",
        "\n",
        "history = model.fit(partial_x_train, partial_y_train,\n",
        "                    epochs = 20,\n",
        "                    batch_size = 512,\n",
        "                    validation_data = (x_val, y_val))"
      ],
      "metadata": {
        "colab": {
          "base_uri": "https://localhost:8080/"
        },
        "id": "NuU8NSgewvoq",
        "outputId": "fdf9834f-5478-4c3a-da26-4ee3209c75f9"
      },
      "execution_count": 29,
      "outputs": [
        {
          "output_type": "stream",
          "name": "stdout",
          "text": [
            "Epoch 1/20\n",
            "16/16 [==============================] - 2s 36ms/step - loss: 2.8699 - accuracy: 0.5008 - val_loss: 1.9229 - val_accuracy: 0.6270\n",
            "Epoch 2/20\n",
            "16/16 [==============================] - 0s 18ms/step - loss: 1.6047 - accuracy: 0.6798 - val_loss: 1.4030 - val_accuracy: 0.7050\n",
            "Epoch 3/20\n",
            "16/16 [==============================] - 0s 20ms/step - loss: 1.2088 - accuracy: 0.7479 - val_loss: 1.2453 - val_accuracy: 0.7230\n",
            "Epoch 4/20\n",
            "16/16 [==============================] - 0s 17ms/step - loss: 0.9946 - accuracy: 0.7865 - val_loss: 1.1078 - val_accuracy: 0.7670\n",
            "Epoch 5/20\n",
            "16/16 [==============================] - 0s 20ms/step - loss: 0.8319 - accuracy: 0.8205 - val_loss: 1.0552 - val_accuracy: 0.7700\n",
            "Epoch 6/20\n",
            "16/16 [==============================] - 0s 18ms/step - loss: 0.7043 - accuracy: 0.8444 - val_loss: 0.9669 - val_accuracy: 0.8000\n",
            "Epoch 7/20\n",
            "16/16 [==============================] - 0s 19ms/step - loss: 0.5903 - accuracy: 0.8721 - val_loss: 0.9556 - val_accuracy: 0.8040\n",
            "Epoch 8/20\n",
            "16/16 [==============================] - 0s 17ms/step - loss: 0.5019 - accuracy: 0.8943 - val_loss: 0.9135 - val_accuracy: 0.8070\n",
            "Epoch 9/20\n",
            "16/16 [==============================] - 0s 17ms/step - loss: 0.4225 - accuracy: 0.9109 - val_loss: 0.8992 - val_accuracy: 0.8180\n",
            "Epoch 10/20\n",
            "16/16 [==============================] - 0s 17ms/step - loss: 0.3601 - accuracy: 0.9251 - val_loss: 0.9596 - val_accuracy: 0.7960\n",
            "Epoch 11/20\n",
            "16/16 [==============================] - 0s 17ms/step - loss: 0.3098 - accuracy: 0.9362 - val_loss: 0.8723 - val_accuracy: 0.8230\n",
            "Epoch 12/20\n",
            "16/16 [==============================] - 0s 18ms/step - loss: 0.2810 - accuracy: 0.9381 - val_loss: 0.8663 - val_accuracy: 0.8210\n",
            "Epoch 13/20\n",
            "16/16 [==============================] - 0s 19ms/step - loss: 0.2376 - accuracy: 0.9468 - val_loss: 0.9006 - val_accuracy: 0.8270\n",
            "Epoch 14/20\n",
            "16/16 [==============================] - 0s 20ms/step - loss: 0.2184 - accuracy: 0.9484 - val_loss: 0.8733 - val_accuracy: 0.8330\n",
            "Epoch 15/20\n",
            "16/16 [==============================] - 0s 20ms/step - loss: 0.1943 - accuracy: 0.9488 - val_loss: 0.9016 - val_accuracy: 0.8100\n",
            "Epoch 16/20\n",
            "16/16 [==============================] - 0s 21ms/step - loss: 0.1794 - accuracy: 0.9538 - val_loss: 0.9358 - val_accuracy: 0.8120\n",
            "Epoch 17/20\n",
            "16/16 [==============================] - 0s 19ms/step - loss: 0.1653 - accuracy: 0.9539 - val_loss: 0.9008 - val_accuracy: 0.8220\n",
            "Epoch 18/20\n",
            "16/16 [==============================] - 0s 23ms/step - loss: 0.1547 - accuracy: 0.9545 - val_loss: 0.9419 - val_accuracy: 0.8290\n",
            "Epoch 19/20\n",
            "16/16 [==============================] - 0s 23ms/step - loss: 0.1494 - accuracy: 0.9524 - val_loss: 0.9107 - val_accuracy: 0.8140\n",
            "Epoch 20/20\n",
            "16/16 [==============================] - 0s 19ms/step - loss: 0.1370 - accuracy: 0.9559 - val_loss: 0.9414 - val_accuracy: 0.8160\n"
          ]
        }
      ]
    },
    {
      "cell_type": "code",
      "source": [
        "# train, val loss\n",
        "\n",
        "loss = history.history['loss']\n",
        "val_loss = history.history['val_loss']\n",
        "epochs = range(1, len(loss_values) + 1)\n",
        "plt.plot(epochs, loss, 'bo', label = 'Training loss') # bo는 파란색 점\n",
        "plt.plot(epochs, val_loss, 'b', label = 'Validation loss') # bo는 파란색 실선\n",
        "plt.title('Training and Validation loss')\n",
        "plt.xlabel('Epochs')\n",
        "plt.ylabel('Loss')\n",
        "plt.legend()\n",
        "plt.show()"
      ],
      "metadata": {
        "colab": {
          "base_uri": "https://localhost:8080/",
          "height": 472
        },
        "id": "ucNmYb9Zw4o3",
        "outputId": "8d16c2f8-cbc1-4b97-b906-751f94fc69c8"
      },
      "execution_count": 30,
      "outputs": [
        {
          "output_type": "display_data",
          "data": {
            "text/plain": [
              "<Figure size 640x480 with 1 Axes>"
            ],
            "image/png": "[encoded data removed]"
          },
          "metadata": {}
        }
      ]
    },
    {
      "cell_type": "code",
      "source": [
        "plt.clf() # 그래프 초기화\n",
        "\n",
        "acc= history.history['accuracy']\n",
        "val_acc = history.history['val_accuracy']\n",
        "plt.plot(epochs, acc, 'bo', label = 'Training accuracy') # bo는 파란색 점\n",
        "plt.plot(epochs, val_acc, 'b', label = 'Validation accuracy') # bo는 파란색 실선\n",
        "plt.title('Training and Validation accuracy')\n",
        "plt.xlabel('Epochs')\n",
        "plt.ylabel('Accuracy')\n",
        "plt.legend()\n",
        "plt.show()"
      ],
      "metadata": {
        "colab": {
          "base_uri": "https://localhost:8080/",
          "height": 472
        },
        "id": "FGsiRqI0xOZT",
        "outputId": "a29cbd88-b100-4ab9-ef98-cf18fe692930"
      },
      "execution_count": 31,
      "outputs": [
        {
          "output_type": "display_data",
          "data": {
            "text/plain": [
              "<Figure size 640x480 with 1 Axes>"
            ],
            "image/png": "[encoded data removed]"
          },
          "metadata": {}
        }
      ]
    },
    {
      "cell_type": "code",
      "source": [
        "model = keras.Sequential([\n",
        "    layers.Dense(64, activation = 'relu'),\n",
        "    layers.Dense(64, activation = 'relu'),\n",
        "    layers.Dense(46, activation = 'softmax')\n",
        "])\n",
        "\n",
        "model.compile(optimizer = 'rmsprop',\n",
        "              loss = 'categorical_crossentropy',\n",
        "              metrics = ['accuracy'])\n",
        "\n",
        "model.fit(partial_x_train, partial_y_train,\n",
        "          epochs = 20,\n",
        "          batch_size = 512)\n",
        "\n",
        "results = model.evaluate(x_test, y_test)\n",
        "print('loss : ', results[0], '/ accuracy : ', results[1])"
      ],
      "metadata": {
        "colab": {
          "base_uri": "https://localhost:8080/"
        },
        "id": "-vxgPgxlxgd6",
        "outputId": "7b763f59-8f04-4238-f440-b01e15381088"
      },
      "execution_count": 32,
      "outputs": [
        {
          "output_type": "stream",
          "name": "stdout",
          "text": [
            "Epoch 1/20\n",
            "16/16 [==============================] - 1s 13ms/step - loss: 2.5719 - accuracy: 0.4996\n",
            "Epoch 2/20\n",
            "16/16 [==============================] - 0s 14ms/step - loss: 1.5032 - accuracy: 0.6693\n",
            "Epoch 3/20\n",
            "16/16 [==============================] - 0s 14ms/step - loss: 1.1698 - accuracy: 0.7425\n",
            "Epoch 4/20\n",
            "16/16 [==============================] - 0s 15ms/step - loss: 0.9561 - accuracy: 0.7907\n",
            "Epoch 5/20\n",
            "16/16 [==============================] - 0s 13ms/step - loss: 0.7904 - accuracy: 0.8309\n",
            "Epoch 6/20\n",
            "16/16 [==============================] - 0s 13ms/step - loss: 0.6562 - accuracy: 0.8597\n",
            "Epoch 7/20\n",
            "16/16 [==============================] - 0s 14ms/step - loss: 0.5481 - accuracy: 0.8832\n",
            "Epoch 8/20\n",
            "16/16 [==============================] - 0s 13ms/step - loss: 0.4554 - accuracy: 0.9013\n",
            "Epoch 9/20\n",
            "16/16 [==============================] - 0s 13ms/step - loss: 0.3840 - accuracy: 0.9209\n",
            "Epoch 10/20\n",
            "16/16 [==============================] - 0s 13ms/step - loss: 0.3254 - accuracy: 0.9295\n",
            "Epoch 11/20\n",
            "16/16 [==============================] - 0s 13ms/step - loss: 0.2874 - accuracy: 0.9341\n",
            "Epoch 12/20\n",
            "16/16 [==============================] - 0s 13ms/step - loss: 0.2416 - accuracy: 0.9456\n",
            "Epoch 13/20\n",
            "16/16 [==============================] - 0s 13ms/step - loss: 0.2192 - accuracy: 0.9469\n",
            "Epoch 14/20\n",
            "16/16 [==============================] - 0s 14ms/step - loss: 0.1929 - accuracy: 0.9505\n",
            "Epoch 15/20\n",
            "16/16 [==============================] - 0s 13ms/step - loss: 0.1801 - accuracy: 0.9519\n",
            "Epoch 16/20\n",
            "16/16 [==============================] - 0s 13ms/step - loss: 0.1661 - accuracy: 0.9545\n",
            "Epoch 17/20\n",
            "16/16 [==============================] - 0s 13ms/step - loss: 0.1497 - accuracy: 0.9558\n",
            "Epoch 18/20\n",
            "16/16 [==============================] - 0s 14ms/step - loss: 0.1436 - accuracy: 0.9564\n",
            "Epoch 19/20\n",
            "16/16 [==============================] - 0s 14ms/step - loss: 0.1412 - accuracy: 0.9548\n",
            "Epoch 20/20\n",
            "16/16 [==============================] - 0s 13ms/step - loss: 0.1338 - accuracy: 0.9572\n",
            "71/71 [==============================] - 0s 3ms/step - loss: 1.0459 - accuracy: 0.7912\n",
            "loss :  1.0458744764328003 / accuracy :  0.7911843061447144\n"
          ]
        }
      ]
    },
    {
      "cell_type": "code",
      "source": [
        "model = keras.Sequential([\n",
        "    layers.Dense(64, activation = 'relu'),\n",
        "    layers.Dense(64, activation = 'relu'),\n",
        "    layers.Dense(46, activation = 'softmax')\n",
        "])\n",
        "\n",
        "model.compile(optimizer = 'rmsprop',\n",
        "              loss = 'categorical_crossentropy',\n",
        "              metrics = ['accuracy'])\n",
        "\n",
        "model.fit(partial_x_train, partial_y_train,\n",
        "          epochs = 13,\n",
        "          batch_size = 512)\n",
        "\n",
        "results = model.evaluate(x_test, y_test)\n",
        "print('loss : ', results[0], '/ accuracy : ', results[1])"
      ],
      "metadata": {
        "colab": {
          "base_uri": "https://localhost:8080/"
        },
        "id": "_Ivg44DTx9r3",
        "outputId": "36c947b4-904f-485b-b942-afe556b2783f"
      },
      "execution_count": 33,
      "outputs": [
        {
          "output_type": "stream",
          "name": "stdout",
          "text": [
            "Epoch 1/13\n",
            "16/16 [==============================] - 1s 13ms/step - loss: 2.7071 - accuracy: 0.5066\n",
            "Epoch 2/13\n",
            "16/16 [==============================] - 0s 14ms/step - loss: 1.5013 - accuracy: 0.6933\n",
            "Epoch 3/13\n",
            "16/16 [==============================] - 0s 14ms/step - loss: 1.1484 - accuracy: 0.7565\n",
            "Epoch 4/13\n",
            "16/16 [==============================] - 0s 13ms/step - loss: 0.9457 - accuracy: 0.7938\n",
            "Epoch 5/13\n",
            "16/16 [==============================] - 0s 14ms/step - loss: 0.7966 - accuracy: 0.8237\n",
            "Epoch 6/13\n",
            "16/16 [==============================] - 0s 14ms/step - loss: 0.6655 - accuracy: 0.8534\n",
            "Epoch 7/13\n",
            "16/16 [==============================] - 0s 13ms/step - loss: 0.5610 - accuracy: 0.8820\n",
            "Epoch 8/13\n",
            "16/16 [==============================] - 0s 13ms/step - loss: 0.4764 - accuracy: 0.8984\n",
            "Epoch 9/13\n",
            "16/16 [==============================] - 0s 14ms/step - loss: 0.4008 - accuracy: 0.9156\n",
            "Epoch 10/13\n",
            "16/16 [==============================] - 0s 14ms/step - loss: 0.3434 - accuracy: 0.9285\n",
            "Epoch 11/13\n",
            "16/16 [==============================] - 0s 13ms/step - loss: 0.2960 - accuracy: 0.9354\n",
            "Epoch 12/13\n",
            "16/16 [==============================] - 0s 13ms/step - loss: 0.2566 - accuracy: 0.9411\n",
            "Epoch 13/13\n",
            "16/16 [==============================] - 0s 13ms/step - loss: 0.2297 - accuracy: 0.9473\n",
            "71/71 [==============================] - 0s 4ms/step - loss: 0.9717 - accuracy: 0.7930\n",
            "loss :  0.9717199206352234 / accuracy :  0.792965292930603\n"
          ]
        }
      ]
    },
    {
      "cell_type": "code",
      "source": [
        "# 만약 hidden layer의 node 수를 줄인다면?\n",
        "\n",
        "model = keras.Sequential([\n",
        "    layers.Dense(64, activation = 'relu'),\n",
        "    layers.Dense(4, activation = 'relu'),\n",
        "    layers.Dense(46, activation = 'softmax')\n",
        "])\n",
        "\n",
        "model.compile(optimizer = 'rmsprop',\n",
        "              loss = 'categorical_crossentropy',\n",
        "              metrics = ['accuracy'])\n",
        "\n",
        "model.fit(partial_x_train, partial_y_train,\n",
        "          epochs = 13,\n",
        "          batch_size = 512)\n",
        "\n",
        "results = model.evaluate(x_test, y_test)\n",
        "print('loss : ', results[0], '/ accuracy : ', results[1])"
      ],
      "metadata": {
        "colab": {
          "base_uri": "https://localhost:8080/"
        },
        "id": "p6PKkQVLyfEE",
        "outputId": "39b4817e-f1a8-445f-8bbf-f8ba7c4bd386"
      },
      "execution_count": 34,
      "outputs": [
        {
          "output_type": "stream",
          "name": "stdout",
          "text": [
            "Epoch 1/13\n",
            "16/16 [==============================] - 1s 18ms/step - loss: 3.5707 - accuracy: 0.0170\n",
            "Epoch 2/13\n",
            "16/16 [==============================] - 0s 19ms/step - loss: 3.1436 - accuracy: 0.1874\n",
            "Epoch 3/13\n",
            "16/16 [==============================] - 0s 16ms/step - loss: 2.7953 - accuracy: 0.2454\n",
            "Epoch 4/13\n",
            "16/16 [==============================] - 0s 15ms/step - loss: 2.5091 - accuracy: 0.2681\n",
            "Epoch 5/13\n",
            "16/16 [==============================] - 0s 13ms/step - loss: 2.2585 - accuracy: 0.3185\n",
            "Epoch 6/13\n",
            "16/16 [==============================] - 0s 14ms/step - loss: 2.0108 - accuracy: 0.3497\n",
            "Epoch 7/13\n",
            "16/16 [==============================] - 0s 14ms/step - loss: 1.7708 - accuracy: 0.3673\n",
            "Epoch 8/13\n",
            "16/16 [==============================] - 0s 13ms/step - loss: 1.5514 - accuracy: 0.6436\n",
            "Epoch 9/13\n",
            "16/16 [==============================] - 0s 13ms/step - loss: 1.3759 - accuracy: 0.6988\n",
            "Epoch 10/13\n",
            "16/16 [==============================] - 0s 14ms/step - loss: 1.2468 - accuracy: 0.7081\n",
            "Epoch 11/13\n",
            "16/16 [==============================] - 0s 14ms/step - loss: 1.1564 - accuracy: 0.7161\n",
            "Epoch 12/13\n",
            "16/16 [==============================] - 0s 13ms/step - loss: 1.0934 - accuracy: 0.7241\n",
            "Epoch 13/13\n",
            "16/16 [==============================] - 0s 13ms/step - loss: 1.0420 - accuracy: 0.7357\n",
            "71/71 [==============================] - 0s 3ms/step - loss: 1.3303 - accuracy: 0.6857\n",
            "loss :  1.3302658796310425 / accuracy :  0.6856634020805359\n"
          ]
        }
      ]
    },
    {
      "cell_type": "code",
      "source": [
        "# 만약 hidden layer의 node 수를 늘린다면?\n",
        "\n",
        "\n",
        "model = keras.Sequential([\n",
        "    layers.Dense(64, activation = 'relu'),\n",
        "    layers.Dense(128, activation = 'relu'),\n",
        "    layers.Dense(46, activation = 'softmax')\n",
        "])\n",
        "\n",
        "model.compile(optimizer = 'rmsprop',\n",
        "              loss = 'categorical_crossentropy',\n",
        "              metrics = ['accuracy'])\n",
        "\n",
        "model.fit(partial_x_train, partial_y_train,\n",
        "          epochs = 13,\n",
        "          batch_size = 512)\n",
        "\n",
        "results = model.evaluate(x_test, y_test)\n",
        "print('loss : ', results[0], '/ accuracy : ', results[1])"
      ],
      "metadata": {
        "colab": {
          "base_uri": "https://localhost:8080/"
        },
        "id": "5qq4pdvGy3I6",
        "outputId": "fb987c66-f534-4e1a-8d58-8871c05f763c"
      },
      "execution_count": 35,
      "outputs": [
        {
          "output_type": "stream",
          "name": "stdout",
          "text": [
            "Epoch 1/13\n",
            "16/16 [==============================] - 1s 13ms/step - loss: 2.7282 - accuracy: 0.4838\n",
            "Epoch 2/13\n",
            "16/16 [==============================] - 0s 14ms/step - loss: 1.5145 - accuracy: 0.6865\n",
            "Epoch 3/13\n",
            "16/16 [==============================] - 0s 14ms/step - loss: 1.1625 - accuracy: 0.7414\n",
            "Epoch 4/13\n",
            "16/16 [==============================] - 0s 14ms/step - loss: 0.9501 - accuracy: 0.7912\n",
            "Epoch 5/13\n",
            "16/16 [==============================] - 0s 14ms/step - loss: 0.7826 - accuracy: 0.8294\n",
            "Epoch 6/13\n",
            "16/16 [==============================] - 0s 14ms/step - loss: 0.6541 - accuracy: 0.8576\n",
            "Epoch 7/13\n",
            "16/16 [==============================] - 0s 15ms/step - loss: 0.5392 - accuracy: 0.8849\n",
            "Epoch 8/13\n",
            "16/16 [==============================] - 0s 15ms/step - loss: 0.4513 - accuracy: 0.9043\n",
            "Epoch 9/13\n",
            "16/16 [==============================] - 0s 17ms/step - loss: 0.3742 - accuracy: 0.9201\n",
            "Epoch 10/13\n",
            "16/16 [==============================] - 0s 21ms/step - loss: 0.3202 - accuracy: 0.9312\n",
            "Epoch 11/13\n",
            "16/16 [==============================] - 0s 16ms/step - loss: 0.2706 - accuracy: 0.9407\n",
            "Epoch 12/13\n",
            "16/16 [==============================] - 0s 16ms/step - loss: 0.2344 - accuracy: 0.9464\n",
            "Epoch 13/13\n",
            "16/16 [==============================] - 0s 13ms/step - loss: 0.2136 - accuracy: 0.9496\n",
            "71/71 [==============================] - 0s 5ms/step - loss: 0.9923 - accuracy: 0.7898\n",
            "loss :  0.9922538995742798 / accuracy :  0.7898486256599426\n"
          ]
        }
      ]
    },
    {
      "cell_type": "code",
      "source": [
        "# hidden layer의 개수를 늘린다면?\n",
        "\n",
        "model = keras.Sequential([\n",
        "    layers.Dense(64, activation = 'relu'),\n",
        "    layers.Dense(64, activation = 'relu'),\n",
        "    layers.Dense(64, activation = 'relu'),\n",
        "    layers.Dense(46, activation = 'softmax')\n",
        "])\n",
        "\n",
        "model.compile(optimizer = 'rmsprop',\n",
        "              loss = 'categorical_crossentropy',\n",
        "              metrics = ['accuracy'])\n",
        "\n",
        "model.fit(partial_x_train, partial_y_train,\n",
        "          epochs = 13,\n",
        "          batch_size = 512)\n",
        "\n",
        "results = model.evaluate(x_test, y_test)\n",
        "print('loss : ', results[0], '/ accuracy : ', results[1])"
      ],
      "metadata": {
        "colab": {
          "base_uri": "https://localhost:8080/"
        },
        "id": "11m8fvluzBAM",
        "outputId": "fe5f1f41-9164-4dad-f7e9-a0fefd39b8b0"
      },
      "execution_count": 36,
      "outputs": [
        {
          "output_type": "stream",
          "name": "stdout",
          "text": [
            "Epoch 1/13\n",
            "16/16 [==============================] - 1s 15ms/step - loss: 2.6156 - accuracy: 0.4803\n",
            "Epoch 2/13\n",
            "16/16 [==============================] - 0s 13ms/step - loss: 1.5070 - accuracy: 0.6679\n",
            "Epoch 3/13\n",
            "16/16 [==============================] - 0s 13ms/step - loss: 1.2004 - accuracy: 0.7250\n",
            "Epoch 4/13\n",
            "16/16 [==============================] - 0s 14ms/step - loss: 0.9927 - accuracy: 0.7701\n",
            "Epoch 5/13\n",
            "16/16 [==============================] - 0s 14ms/step - loss: 0.8316 - accuracy: 0.8103\n",
            "Epoch 6/13\n",
            "16/16 [==============================] - 0s 14ms/step - loss: 0.6853 - accuracy: 0.8420\n",
            "Epoch 7/13\n",
            "16/16 [==============================] - 0s 14ms/step - loss: 0.5830 - accuracy: 0.8667\n",
            "Epoch 8/13\n",
            "16/16 [==============================] - 0s 14ms/step - loss: 0.4745 - accuracy: 0.8915\n",
            "Epoch 9/13\n",
            "16/16 [==============================] - 0s 14ms/step - loss: 0.4028 - accuracy: 0.9078\n",
            "Epoch 10/13\n",
            "16/16 [==============================] - 0s 13ms/step - loss: 0.3345 - accuracy: 0.9273\n",
            "Epoch 11/13\n",
            "16/16 [==============================] - 0s 13ms/step - loss: 0.2978 - accuracy: 0.9341\n",
            "Epoch 12/13\n",
            "16/16 [==============================] - 0s 13ms/step - loss: 0.2527 - accuracy: 0.9432\n",
            "Epoch 13/13\n",
            "16/16 [==============================] - 0s 15ms/step - loss: 0.2248 - accuracy: 0.9461\n",
            "71/71 [==============================] - 0s 3ms/step - loss: 1.1096 - accuracy: 0.7769\n",
            "loss :  1.1095824241638184 / accuracy :  0.7769367694854736\n"
          ]
        }
      ]
    },
    {
      "cell_type": "markdown",
      "source": [
        "### 4.3 주택 가격 예측: 회귀 문제\n",
        "* dataset : 보스턴 주택 가격"
      ],
      "metadata": {
        "id": "xB76hFGhzRSP"
      }
    },
    {
      "cell_type": "code",
      "source": [
        "# dataset load\n",
        "\n",
        "from tensorflow.keras.datasets import boston_housing\n",
        "\n",
        "(train_data, train_targets), (test_data, test_targets) = boston_housing.load_data()"
      ],
      "metadata": {
        "colab": {
          "base_uri": "https://localhost:8080/"
        },
        "id": "-MziQ7KqzNNY",
        "outputId": "02c5e1a3-3cc2-41a2-bb2b-418e23f3bca0"
      },
      "execution_count": 37,
      "outputs": [
        {
          "output_type": "stream",
          "name": "stdout",
          "text": [
            "Downloading data from https://storage.googleapis.com/tensorflow/tf-keras-datasets/boston_housing.npz\n",
            "57026/57026 [==============================] - 0s 0us/step\n"
          ]
        }
      ]
    },
    {
      "cell_type": "code",
      "source": [
        "print(train_data.shape, test_data.shape)"
      ],
      "metadata": {
        "colab": {
          "base_uri": "https://localhost:8080/"
        },
        "id": "IO2M1XvEzpcs",
        "outputId": "b9c6c154-e66c-4574-f256-306e9dbd7a99"
      },
      "execution_count": 38,
      "outputs": [
        {
          "output_type": "stream",
          "name": "stdout",
          "text": [
            "(404, 13) (102, 13)\n"
          ]
        }
      ]
    },
    {
      "cell_type": "code",
      "source": [
        "# feature 별로 정규화(평균이 0이고 표준편차가 1이 될 수 있도록)\n",
        "\n",
        "mean = train_data.mean(axis = 0)\n",
        "train_data -= mean\n",
        "std = train_data.std(axis = 0)\n",
        "train_data /= std\n",
        "test_data -= mean # test data에 대해서 정규화할 때 train data에서 계산한 값으로 정규화하는 것이 중요, training 과정에서 절대 test data의 값을 사용하면 안되기 때문\n",
        "test_data /= std"
      ],
      "metadata": {
        "id": "KPctiNIqztxZ"
      },
      "execution_count": 39,
      "outputs": []
    },
    {
      "cell_type": "code",
      "source": [
        "def build_model():\n",
        "  model = keras.Sequential([\n",
        "      layers.Dense(64, activation = 'relu'),\n",
        "      layers.Dense(64, activation = 'relu'),\n",
        "      layers.Dense(1)\n",
        "  ])\n",
        "  model.compile(optimizer = 'rmsprop', loss = 'mse', metrics = 'mae')\n",
        "  return model"
      ],
      "metadata": {
        "id": "1-jzqof30LgX"
      },
      "execution_count": 40,
      "outputs": []
    },
    {
      "cell_type": "code",
      "source": [
        "# sample 수가 적기 때문에 val_data에 대한 분산이 높은 상황 --> k-fold cross validation 기법을 통해서 다양한 val_data 사용\n",
        "\n",
        "k = 4 # k : fold\n",
        "num_val_samples = len(train_data) // k\n",
        "num_epochs = 100\n",
        "all_scores = []\n",
        "for i in range(k):\n",
        "  print(f'#{i}번째 fold 처리 중')\n",
        "  val_data = train_data[i * num_val_samples: (i + 1) * num_val_samples]\n",
        "  val_targets = train_targets[i * num_val_samples: (i + 1) * num_val_samples]\n",
        "  partial_train_data = np.concatenate(\n",
        "      [train_data[:i * num_val_samples],\n",
        "       train_data[(i + 1) * num_val_samples:]],\n",
        "      axis = 0\n",
        "  )\n",
        "  partial_train_targets = np.concatenate(\n",
        "      [train_targets[:i * num_val_samples],\n",
        "       train_targets[(i + 1) * num_val_samples:]],\n",
        "      axis = 0\n",
        "  )\n",
        "\n",
        "  model = build_model()\n",
        "  model.fit(partial_train_data, partial_train_targets,\n",
        "            epochs = num_epochs, batch_size = 16, verbose = 0) # verbose = 0 : 훈련 과정 출력 x\n",
        "  val_mse, val_mae = model.evaluate(val_data, val_targets, verbose = 0)\n",
        "  all_scores.append(val_mae)"
      ],
      "metadata": {
        "id": "bCFcLwYa0cTY",
        "colab": {
          "base_uri": "https://localhost:8080/"
        },
        "outputId": "0e679997-7514-4dbf-9a07-bc12bcfc4abd"
      },
      "execution_count": 41,
      "outputs": [
        {
          "output_type": "stream",
          "name": "stdout",
          "text": [
            "#0번째 fold 처리 중\n",
            "#1번째 fold 처리 중\n",
            "#2번째 fold 처리 중\n",
            "#3번째 fold 처리 중\n"
          ]
        }
      ]
    },
    {
      "cell_type": "code",
      "source": [
        "print(all_scores, np.mean(all_scores))"
      ],
      "metadata": {
        "colab": {
          "base_uri": "https://localhost:8080/"
        },
        "id": "07KZDdIJWawv",
        "outputId": "8144848a-8512-4b26-971d-ce61b0793c51"
      },
      "execution_count": 42,
      "outputs": [
        {
          "output_type": "stream",
          "name": "stdout",
          "text": [
            "[1.9899849891662598, 2.3322672843933105, 2.4531233310699463, 2.4248507022857666] 2.300056576728821\n"
          ]
        }
      ]
    },
    {
      "cell_type": "code",
      "source": [
        "num_epochs = 500\n",
        "all_mae_histories = []\n",
        "for i in range(k):\n",
        "  print(f'#{i}번째 fold 처리 중')\n",
        "  val_data = train_data[i * num_val_samples: (i + 1) * num_val_samples]\n",
        "  val_targets = train_targets[i * num_val_samples: (i + 1) * num_val_samples]\n",
        "  partial_train_data = np.concatenate(\n",
        "      [train_data[:i * num_val_samples],\n",
        "       train_data[(i + 1) * num_val_samples:]],\n",
        "      axis = 0\n",
        "  )\n",
        "  partial_train_targets = np.concatenate(\n",
        "      [train_targets[:i * num_val_samples],\n",
        "       train_targets[(i + 1) * num_val_samples:]],\n",
        "      axis = 0\n",
        "  )\n",
        "\n",
        "  model = build_model()\n",
        "  history = model.fit(partial_train_data, partial_train_targets,\n",
        "                      validation_data = (val_data, val_targets),\n",
        "                      epochs = num_epochs, batch_size = 16, verbose = 0)\n",
        "  mae_history = history.history['val_mae']\n",
        "  all_mae_histories.append(mae_history)"
      ],
      "metadata": {
        "colab": {
          "base_uri": "https://localhost:8080/"
        },
        "id": "uBNWvDTcWmh_",
        "outputId": "22048af2-280c-4855-b057-26998d65651e"
      },
      "execution_count": 43,
      "outputs": [
        {
          "output_type": "stream",
          "name": "stdout",
          "text": [
            "#0번째 fold 처리 중\n",
            "#1번째 fold 처리 중\n",
            "#2번째 fold 처리 중\n",
            "#3번째 fold 처리 중\n"
          ]
        }
      ]
    },
    {
      "cell_type": "code",
      "source": [
        "average_mae_history = [\n",
        "    np.mean([x[i] for x in all_mae_histories]) for i in range(num_epochs)\n",
        "]"
      ],
      "metadata": {
        "id": "Az9eibqkXOmT"
      },
      "execution_count": 44,
      "outputs": []
    },
    {
      "cell_type": "code",
      "source": [
        "plt.plot(range(1, len(average_mae_history) + 1), average_mae_history)\n",
        "plt.xlabel('Epochs')\n",
        "plt.ylabel('Validation MAE')\n",
        "plt.show()"
      ],
      "metadata": {
        "colab": {
          "base_uri": "https://localhost:8080/",
          "height": 449
        },
        "id": "PjDsTIY1ZSe7",
        "outputId": "ae6bd596-505b-409b-9af1-9951c4764e15"
      },
      "execution_count": 45,
      "outputs": [
        {
          "output_type": "display_data",
          "data": {
            "text/plain": [
              "<Figure size 640x480 with 1 Axes>"
            ],
            "image/png": "[encoded data removed]"
          },
          "metadata": {}
        }
      ]
    },
    {
      "cell_type": "markdown",
      "source": [
        "* 초반 epoch에 대해서 MAE 값이 크다보니 범위가 넓어짐 --> 초반 epoch를 일부 제외하고 다시 plotting"
      ],
      "metadata": {
        "id": "g1a7w9Pfnbc1"
      }
    },
    {
      "cell_type": "code",
      "source": [
        "truncated_mae_history = average_mae_history[10:]\n",
        "plt.plot(range(1, len(truncated_mae_history) + 1), truncated_mae_history)\n",
        "plt.xlabel('Epochs')\n",
        "plt.ylabel('Validation MAE')\n",
        "plt.show()"
      ],
      "metadata": {
        "colab": {
          "base_uri": "https://localhost:8080/",
          "height": 449
        },
        "id": "OJtU_0XDnZ84",
        "outputId": "05814cb6-0811-466d-a874-cf44bc322e60"
      },
      "execution_count": 46,
      "outputs": [
        {
          "output_type": "display_data",
          "data": {
            "text/plain": [
              "<Figure size 640x480 with 1 Axes>"
            ],
            "image/png": "[encoded data removed]"
          },
          "metadata": {}
        }
      ]
    },
    {
      "cell_type": "markdown",
      "source": [
        "* 130 epoch 이후부터 overfitting"
      ],
      "metadata": {
        "id": "JlQTcTnToVLG"
      }
    },
    {
      "cell_type": "code",
      "source": [
        "model = build_model()\n",
        "model.fit(train_data, train_targets, epochs = 130, batch_size = 16, verbose = 0)\n",
        "\n",
        "test_mse_score, test_mae_score = model.evaluate(test_data, test_targets)\n",
        "\n",
        "print(test_mae_score)"
      ],
      "metadata": {
        "colab": {
          "base_uri": "https://localhost:8080/"
        },
        "id": "ICBEfde8ntpJ",
        "outputId": "96063b5a-7236-497c-9776-8dd52e5432e0"
      },
      "execution_count": 47,
      "outputs": [
        {
          "output_type": "stream",
          "name": "stdout",
          "text": [
            "4/4 [==============================] - 0s 4ms/step - loss: 14.2933 - mae: 2.4584\n",
            "2.4584004878997803\n"
          ]
        }
      ]
    },
    {
      "cell_type": "code",
      "source": [],
      "metadata": {
        "id": "BbULI3AgpHJi"
      },
      "execution_count": null,
      "outputs": []
    }
  ]
}