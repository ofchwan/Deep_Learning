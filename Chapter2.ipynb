{
  "nbformat": 4,
  "nbformat_minor": 0,
  "metadata": {
    "colab": {
      "provenance": [],
      "gpuType": "T4",
      "authorship_tag": "ABX9TyPQzBum9Qbcj+HKTfhp6L3W",
      "include_colab_link": true
    },
    "kernelspec": {
      "name": "python3",
      "display_name": "Python 3"
    },
    "language_info": {
      "name": "python"
    },
    "accelerator": "GPU"
  },
  "cells": [
    {
      "cell_type": "markdown",
      "metadata": {
        "id": "view-in-github",
        "colab_type": "text"
      },
      "source": [
        "<a href=\"https://colab.research.google.com/github/ofchwan/Deep_Learning/blob/main/Chapter2.ipynb\" target=\"_parent\"><img src=\"https://colab.research.google.com/assets/colab-badge.svg\" alt=\"Open In Colab\"/></a>"
      ]
    },
    {
      "cell_type": "markdown",
      "source": [
        "# 케라스 창시자에게 배우는 딥러닝\n",
        "## 2. 신경망의 수학적 구성요소"
      ],
      "metadata": {
        "id": "ODu7IYPwMBdD"
      }
    },
    {
      "cell_type": "markdown",
      "source": [
        "### 2.1 신경망과의 첫만남"
      ],
      "metadata": {
        "id": "U_MpX9iLPvqo"
      }
    },
    {
      "cell_type": "code",
      "source": [
        "# mnist 데이터셋 불러오기\n",
        "from tensorflow.keras.datasets import mnist\n",
        "(train_images, train_labels), (test_images, test_labels) = mnist.load_data()"
      ],
      "metadata": {
        "id": "wRUk9wN7MFtv"
      },
      "execution_count": 26,
      "outputs": []
    },
    {
      "cell_type": "code",
      "source": [
        "train_images.shape"
      ],
      "metadata": {
        "colab": {
          "base_uri": "https://localhost:8080/"
        },
        "id": "iLQNfbyRMQ0f",
        "outputId": "5875809d-f7ba-4f17-9cfe-e2da99a25db0"
      },
      "execution_count": 8,
      "outputs": [
        {
          "output_type": "execute_result",
          "data": {
            "text/plain": [
              "(60000, 28, 28)"
            ]
          },
          "metadata": {},
          "execution_count": 8
        }
      ]
    },
    {
      "cell_type": "code",
      "source": [
        "len(train_labels)"
      ],
      "metadata": {
        "colab": {
          "base_uri": "https://localhost:8080/"
        },
        "id": "-Wm29GQoM0UW",
        "outputId": "b7efa4fb-9046-4a90-9a02-9a48a4c17ae6"
      },
      "execution_count": 9,
      "outputs": [
        {
          "output_type": "execute_result",
          "data": {
            "text/plain": [
              "60000"
            ]
          },
          "metadata": {},
          "execution_count": 9
        }
      ]
    },
    {
      "cell_type": "code",
      "source": [
        "train_labels"
      ],
      "metadata": {
        "colab": {
          "base_uri": "https://localhost:8080/"
        },
        "id": "cYaHpoBEM2Tv",
        "outputId": "9d69e79e-9f1e-43c4-a3fb-526d02273417"
      },
      "execution_count": 10,
      "outputs": [
        {
          "output_type": "execute_result",
          "data": {
            "text/plain": [
              "array([5, 0, 4, ..., 5, 6, 8], dtype=uint8)"
            ]
          },
          "metadata": {},
          "execution_count": 10
        }
      ]
    },
    {
      "cell_type": "code",
      "source": [
        "test_images.shape"
      ],
      "metadata": {
        "colab": {
          "base_uri": "https://localhost:8080/"
        },
        "id": "By4J3cYjNCar",
        "outputId": "8331a8ae-5815-4006-c4a6-41ed3705b803"
      },
      "execution_count": 11,
      "outputs": [
        {
          "output_type": "execute_result",
          "data": {
            "text/plain": [
              "(10000, 28, 28)"
            ]
          },
          "metadata": {},
          "execution_count": 11
        }
      ]
    },
    {
      "cell_type": "code",
      "source": [
        "len(test_labels)"
      ],
      "metadata": {
        "colab": {
          "base_uri": "https://localhost:8080/"
        },
        "id": "bTilIdYCNH28",
        "outputId": "768b94a6-0e7b-4667-dc0a-f4d86ca7588e"
      },
      "execution_count": 12,
      "outputs": [
        {
          "output_type": "execute_result",
          "data": {
            "text/plain": [
              "10000"
            ]
          },
          "metadata": {},
          "execution_count": 12
        }
      ]
    },
    {
      "cell_type": "code",
      "source": [
        "# 신경망 구성하기\n",
        "from tensorflow import keras\n",
        "from tensorflow.keras import layers\n",
        "\n",
        "model = keras.Sequential([\n",
        "    layers.Dense(512, activation = 'relu'),\n",
        "    layers.Dense(10, activation = 'softmax')\n",
        "])"
      ],
      "metadata": {
        "id": "2oZczZxANJJS"
      },
      "execution_count": 13,
      "outputs": []
    },
    {
      "cell_type": "code",
      "source": [
        "model.compile(optimizer = 'rmsprop',\n",
        "              loss = 'sparse_categorical_crossentropy',\n",
        "              metrics = ['accuracy'])"
      ],
      "metadata": {
        "id": "qFbMOAMrNrND"
      },
      "execution_count": 15,
      "outputs": []
    },
    {
      "cell_type": "code",
      "source": [
        "# 데이터를 모델에 맞는 size로 바꾸기\n",
        "train_images = train_images.reshape((60000, 28 * 28))\n",
        "test_images = test_images.reshape((10000, 28 * 28))\n",
        "# 모든 값을 0 ~ 1 사이로 스케일 조정\n",
        "train_images = train_images.astype('float32') / 255\n",
        "test_images = test_images.astype('float32') / 255"
      ],
      "metadata": {
        "id": "NIwi6EWCN-Ng"
      },
      "execution_count": 16,
      "outputs": []
    },
    {
      "cell_type": "code",
      "source": [
        "# 모델 훈련하기\n",
        "model.fit(train_images, train_labels, epochs = 5, batch_size = 128)"
      ],
      "metadata": {
        "colab": {
          "base_uri": "https://localhost:8080/"
        },
        "id": "ir46aBtaObYK",
        "outputId": "636976ab-cd9e-4a81-cbf9-0fdc557240df"
      },
      "execution_count": 17,
      "outputs": [
        {
          "output_type": "stream",
          "name": "stdout",
          "text": [
            "Epoch 1/5\n",
            "469/469 [==============================] - 6s 3ms/step - loss: 0.2594 - accuracy: 0.9261\n",
            "Epoch 2/5\n",
            "469/469 [==============================] - 1s 3ms/step - loss: 0.1059 - accuracy: 0.9692\n",
            "Epoch 3/5\n",
            "469/469 [==============================] - 1s 3ms/step - loss: 0.0702 - accuracy: 0.9790\n",
            "Epoch 4/5\n",
            "469/469 [==============================] - 1s 3ms/step - loss: 0.0505 - accuracy: 0.9848\n",
            "Epoch 5/5\n",
            "469/469 [==============================] - 1s 3ms/step - loss: 0.0381 - accuracy: 0.9887\n"
          ]
        },
        {
          "output_type": "execute_result",
          "data": {
            "text/plain": [
              "<keras.src.callbacks.History at 0x7c04a0780df0>"
            ]
          },
          "metadata": {},
          "execution_count": 17
        }
      ]
    },
    {
      "cell_type": "code",
      "source": [
        "# 예측해보기\n",
        "test_digits = test_images[:10]\n",
        "predictions = model.predict(test_digits)\n",
        "predictions[0]"
      ],
      "metadata": {
        "colab": {
          "base_uri": "https://localhost:8080/"
        },
        "id": "ShtDLPlAOj-R",
        "outputId": "343bce3a-8aac-40e0-bfa4-054bdff70fd4"
      },
      "execution_count": 19,
      "outputs": [
        {
          "output_type": "stream",
          "name": "stdout",
          "text": [
            "1/1 [==============================] - 0s 17ms/step\n"
          ]
        },
        {
          "output_type": "execute_result",
          "data": {
            "text/plain": [
              "array([3.8617096e-09, 1.0626500e-09, 1.0009806e-05, 1.5105825e-05,\n",
              "       3.0640865e-11, 3.0025234e-08, 1.4419926e-12, 9.9997365e-01,\n",
              "       6.8643067e-07, 4.8430553e-07], dtype=float32)"
            ]
          },
          "metadata": {},
          "execution_count": 19
        }
      ]
    },
    {
      "cell_type": "code",
      "source": [
        "predictions[0].argmax()"
      ],
      "metadata": {
        "colab": {
          "base_uri": "https://localhost:8080/"
        },
        "id": "l8rJKPeSOwvy",
        "outputId": "6873b35a-3c61-4435-d170-23e6fb57f26f"
      },
      "execution_count": 21,
      "outputs": [
        {
          "output_type": "execute_result",
          "data": {
            "text/plain": [
              "7"
            ]
          },
          "metadata": {},
          "execution_count": 21
        }
      ]
    },
    {
      "cell_type": "code",
      "source": [
        "predictions[0][7]"
      ],
      "metadata": {
        "colab": {
          "base_uri": "https://localhost:8080/"
        },
        "id": "vIiZJUdwO6vk",
        "outputId": "32c6458a-70a3-4b2f-adff-d6234087c916"
      },
      "execution_count": 22,
      "outputs": [
        {
          "output_type": "execute_result",
          "data": {
            "text/plain": [
              "0.99997365"
            ]
          },
          "metadata": {},
          "execution_count": 22
        }
      ]
    },
    {
      "cell_type": "code",
      "source": [
        "test_labels[0]"
      ],
      "metadata": {
        "colab": {
          "base_uri": "https://localhost:8080/"
        },
        "id": "tzuZH05APHX7",
        "outputId": "c13cc381-b3f3-48e1-acb8-e38368b2e7bc"
      },
      "execution_count": 23,
      "outputs": [
        {
          "output_type": "execute_result",
          "data": {
            "text/plain": [
              "7"
            ]
          },
          "metadata": {},
          "execution_count": 23
        }
      ]
    },
    {
      "cell_type": "code",
      "source": [
        "test_loss, test_acc = model.evaluate(test_images, test_labels)\n",
        "print(f'test accuracy : {test_acc}')"
      ],
      "metadata": {
        "colab": {
          "base_uri": "https://localhost:8080/"
        },
        "id": "oXXPPuHHPJz2",
        "outputId": "2a3cce3f-e760-4bcb-de51-8b93bc9cb881"
      },
      "execution_count": 25,
      "outputs": [
        {
          "output_type": "stream",
          "name": "stdout",
          "text": [
            "313/313 [==============================] - 1s 3ms/step - loss: 0.0630 - accuracy: 0.9810\n",
            "test accuracy : 0.9810000061988831\n"
          ]
        }
      ]
    },
    {
      "cell_type": "markdown",
      "source": [
        "### 2.2 신경망을 위한 데이터 표현"
      ],
      "metadata": {
        "id": "LSwfck92PzG9"
      }
    },
    {
      "cell_type": "markdown",
      "source": [
        "* 텐서 : 머신 러닝 시스템의 기본 데이터 구조\n",
        "  * 텐서에서의 차원은 축(axis)라고 함"
      ],
      "metadata": {
        "id": "82YAbqGLP2sb"
      }
    },
    {
      "cell_type": "code",
      "source": [
        "import numpy as np"
      ],
      "metadata": {
        "id": "YHS71pRRPUFt"
      },
      "execution_count": 27,
      "outputs": []
    },
    {
      "cell_type": "code",
      "source": [
        "# 스칼라(rank = 0 텐서)\n",
        "\n",
        "x = np.array(12)\n",
        "x"
      ],
      "metadata": {
        "colab": {
          "base_uri": "https://localhost:8080/"
        },
        "id": "EljEsjBCQNmu",
        "outputId": "823bcaa9-eb95-4088-e987-f2e379f6ebbc"
      },
      "execution_count": 44,
      "outputs": [
        {
          "output_type": "execute_result",
          "data": {
            "text/plain": [
              "array(12)"
            ]
          },
          "metadata": {},
          "execution_count": 44
        }
      ]
    },
    {
      "cell_type": "code",
      "source": [
        "x.ndim # tensor의 축을 알 수 있는 메소드"
      ],
      "metadata": {
        "colab": {
          "base_uri": "https://localhost:8080/"
        },
        "id": "ddeqPu07QR8f",
        "outputId": "f570509d-0ed5-4278-8737-497eebe9a510"
      },
      "execution_count": 45,
      "outputs": [
        {
          "output_type": "execute_result",
          "data": {
            "text/plain": [
              "0"
            ]
          },
          "metadata": {},
          "execution_count": 45
        }
      ]
    },
    {
      "cell_type": "code",
      "source": [
        "# 벡터(rank = 1 텐서)\n",
        "\n",
        "x = np.array([12, 3, 6, 4, 5]) # 원소의 개수가 5개이기 때문에 5차원 벡터\n",
        "x"
      ],
      "metadata": {
        "colab": {
          "base_uri": "https://localhost:8080/"
        },
        "id": "QYkVpltFQS-8",
        "outputId": "b829eb92-6e89-4ac9-9dd0-dfeba8899a64"
      },
      "execution_count": 46,
      "outputs": [
        {
          "output_type": "execute_result",
          "data": {
            "text/plain": [
              "array([12,  3,  6,  4,  5])"
            ]
          },
          "metadata": {},
          "execution_count": 46
        }
      ]
    },
    {
      "cell_type": "code",
      "source": [
        "x.ndim"
      ],
      "metadata": {
        "colab": {
          "base_uri": "https://localhost:8080/"
        },
        "id": "JvNZyeOOQYhr",
        "outputId": "414726af-f0e5-48fa-fc0f-f9a0df27903c"
      },
      "execution_count": 47,
      "outputs": [
        {
          "output_type": "execute_result",
          "data": {
            "text/plain": [
              "1"
            ]
          },
          "metadata": {},
          "execution_count": 47
        }
      ]
    },
    {
      "cell_type": "code",
      "source": [
        "# 행렬 (rank = 2 텐서)\n",
        "\n",
        "x = np.array([\n",
        "    [5, 78, 2, 34, 0],\n",
        "    [6, 79, 3, 35, 1],\n",
        "    [7, 80, 4, 36, 2]\n",
        "])"
      ],
      "metadata": {
        "id": "OmfOttNAQZZ-"
      },
      "execution_count": 48,
      "outputs": []
    },
    {
      "cell_type": "code",
      "source": [
        "x.ndim"
      ],
      "metadata": {
        "colab": {
          "base_uri": "https://localhost:8080/"
        },
        "id": "y6oJ3aflQ0nK",
        "outputId": "27cb6cbe-7e70-4b46-b437-c101ced38f3d"
      },
      "execution_count": 49,
      "outputs": [
        {
          "output_type": "execute_result",
          "data": {
            "text/plain": [
              "2"
            ]
          },
          "metadata": {},
          "execution_count": 49
        }
      ]
    },
    {
      "cell_type": "code",
      "source": [
        "# 행렬을 하나의 새로운 배열로 합치면 rank = 3 텐서\n",
        "\n",
        "x = np.array([\n",
        "    [[5, 78, 2, 34, 0],\n",
        "    [6, 79, 3, 35, 1],\n",
        "    [7, 80, 4, 36, 2]],\n",
        "    [[5, 78, 2, 34, 0],\n",
        "    [6, 79, 3, 35, 1],\n",
        "    [7, 80, 4, 36, 2]],\n",
        "    [[5, 78, 2, 34, 0],\n",
        "    [6, 79, 3, 35, 1],\n",
        "    [7, 80, 4, 36, 2]]\n",
        "])"
      ],
      "metadata": {
        "id": "UYEAm1D7Q1-V"
      },
      "execution_count": 50,
      "outputs": []
    },
    {
      "cell_type": "code",
      "source": [
        "x.ndim"
      ],
      "metadata": {
        "colab": {
          "base_uri": "https://localhost:8080/"
        },
        "id": "GRCL8EIuRNqS",
        "outputId": "6cbe08d7-576c-4109-c0eb-cb4eb417abc0"
      },
      "execution_count": 51,
      "outputs": [
        {
          "output_type": "execute_result",
          "data": {
            "text/plain": [
              "3"
            ]
          },
          "metadata": {},
          "execution_count": 51
        }
      ]
    },
    {
      "cell_type": "code",
      "source": [
        "# mnist dataset tensor 확인\n",
        "\n",
        "(train_images, train_labels), (test_images, test_labels) = mnist.load_data()\n",
        "\n",
        "train_images.ndim"
      ],
      "metadata": {
        "colab": {
          "base_uri": "https://localhost:8080/"
        },
        "id": "cpFOnK66ROpk",
        "outputId": "61061536-1ca0-4708-decc-082304ca78f6"
      },
      "execution_count": 52,
      "outputs": [
        {
          "output_type": "execute_result",
          "data": {
            "text/plain": [
              "3"
            ]
          },
          "metadata": {},
          "execution_count": 52
        }
      ]
    },
    {
      "cell_type": "code",
      "source": [
        "import matplotlib.pyplot as plt\n",
        "\n",
        "digit = train_images[4]\n",
        "plt.imshow(digit, cmap = plt.cm.binary)\n",
        "plt.show()"
      ],
      "metadata": {
        "colab": {
          "base_uri": "https://localhost:8080/",
          "height": 430
        },
        "id": "SYAM7CbSRvHV",
        "outputId": "4fa38ebd-63ef-42b1-d23a-7afd31dcab51"
      },
      "execution_count": 53,
      "outputs": [
        {
          "output_type": "display_data",
          "data": {
            "text/plain": [
              "<Figure size 640x480 with 1 Axes>"
            ],
            "image/png": "[encoded data removed]"
          },
          "metadata": {}
        }
      ]
    },
    {
      "cell_type": "code",
      "source": [
        "train_labels[4]"
      ],
      "metadata": {
        "colab": {
          "base_uri": "https://localhost:8080/"
        },
        "id": "ESsBU55oR3HW",
        "outputId": "253e7da8-ec91-4ca1-fd06-19f2531bd72f"
      },
      "execution_count": 54,
      "outputs": [
        {
          "output_type": "execute_result",
          "data": {
            "text/plain": [
              "9"
            ]
          },
          "metadata": {},
          "execution_count": 54
        }
      ]
    },
    {
      "cell_type": "markdown",
      "source": [
        "### 2.4 신경망의 엔진 : gradient 기반 최적화"
      ],
      "metadata": {
        "id": "HbHWcbYFVQYz"
      }
    },
    {
      "cell_type": "markdown",
      "source": [
        "* layer의 연산 : \\\n",
        "$$output = relu(dot(W, input) + b)$$\n",
        "* training loop\n",
        "  1. 훈련 샘플 x와 이에 상응하는 타깃 y_true의 배치를 추출\n",
        "  2. x를 사용하여 모델을 실행하고(forward pass), 예측 y_pred 구함\n",
        "  3. y_pred와 y_true의 차이를 측정하여 배치에 대한 모델의 손실을 계산\n",
        "  4. 배치에 대한 손실이 조금 감소되도록 모델의 모든 가중치를 업데이트\n",
        "* 확률적 경사 하강법\n",
        "  1. 훈련 샘플 배치 x와 이에 상응하는 타깃 y_true를 추출\n",
        "  2. x로 모델을 실행하고 예측 y_pred를 구함\n",
        "  3. 이 배치에서 y_pred와 y_true 사이의 오차를 측정하여 모델의 손실을 계산\n",
        "  4. 모델의 파라미터에 대한 손실 함수의 gradient를 계산\n",
        "  5. gradient의 반대 방향으로 파라미터를 이동, learning rate만큼 조금 이동"
      ],
      "metadata": {
        "id": "48oF3jQ9VWqv"
      }
    },
    {
      "cell_type": "markdown",
      "source": [
        "### 2.5 mnist 예제 다시 구현하기"
      ],
      "metadata": {
        "id": "VjEDvLAUYHSE"
      }
    },
    {
      "cell_type": "code",
      "source": [
        "import tensorflow as tf\n",
        "\n",
        "class NaiveDense:\n",
        "  def __init__(self, input_size, output_size, activation):\n",
        "    self.activation = activation\n",
        "\n",
        "    # weight\n",
        "    w_shape = (input_size, output_size)\n",
        "    w_initial_value = tf.random.uniform(w_shape, minval = 0, maxval = 1e-1)\n",
        "    self.W = tf.Variable(w_initial_value)\n",
        "\n",
        "    # bias\n",
        "    b_shape = (output_size,)\n",
        "    b_initial_value = tf.zeros(b_shape)\n",
        "    self.b = tf.Variable(b_initial_value)\n",
        "\n",
        "  def __call__(self, inputs):\n",
        "    return self.activation(tf.matmul(inputs, self.W) + self.b)\n",
        "\n",
        "  @property\n",
        "  def weights(self): # layer의 가중치를 추출하기 위해\n",
        "    return [self.W, self.b]"
      ],
      "metadata": {
        "id": "b7z9XtprVUpP"
      },
      "execution_count": 59,
      "outputs": []
    },
    {
      "cell_type": "code",
      "source": [
        "class NaiveSequential:\n",
        "  def __init__(self, layers):\n",
        "    self.layers = layers\n",
        "\n",
        "  def __call__(self, inputs):\n",
        "    x = inputs\n",
        "    for layer in self.layers:\n",
        "      x = layer(x)\n",
        "    return x\n",
        "\n",
        "  @property\n",
        "  def weights(self):\n",
        "    weights = []\n",
        "    for layer in self.layers:\n",
        "      weights += layer.weights\n",
        "    return weights"
      ],
      "metadata": {
        "id": "wWahg7RHZDPL"
      },
      "execution_count": 66,
      "outputs": []
    },
    {
      "cell_type": "code",
      "source": [
        "model = NaiveSequential([\n",
        "    NaiveDense(input_size = 28 * 28, output_size = 512, activation = tf.nn.relu),\n",
        "    NaiveDense(input_size = 512, output_size = 10, activation = tf.nn.softmax)\n",
        "])\n",
        "\n",
        "assert len(model.weights) == 4"
      ],
      "metadata": {
        "id": "d03joLVxZfRv"
      },
      "execution_count": 69,
      "outputs": []
    },
    {
      "cell_type": "code",
      "source": [
        "import math\n",
        "\n",
        "class BatchGenerator: # mini-batch\n",
        "  def __init__(self, images, labels, batch_size = 128):\n",
        "    self.index = 0\n",
        "    self.images = images\n",
        "    self.labels = labels\n",
        "    self.batch_size = batch_size\n",
        "    self.num_batches = math.ceil(len(images) / batch_size)\n",
        "    \"\"\"\n",
        "    math.ceil() : 실수를 올림하여 정수로 반환\n",
        "    \"\"\"\n",
        "\n",
        "  def next(self):\n",
        "    images = self.images[self.index : self.index + self.batch_size]\n",
        "    labels = self.labels[self.index : self.index + self.batch_size]\n",
        "    self.index += self.batch_size\n",
        "    return images, labels"
      ],
      "metadata": {
        "id": "T9Z8U-w_aUqc"
      },
      "execution_count": 74,
      "outputs": []
    },
    {
      "cell_type": "code",
      "source": [
        "def one_training_step(model, images_batch, labels_batch):\n",
        "  with tf.GradientTape() as tape:\n",
        "    predictions = model(images_batch)\n",
        "    per_sample_losses = tf.keras.losses.sparse_categorical_crossentropy(\n",
        "        labels_batch, predictions\n",
        "    )\n",
        "    average_loss = tf.reduce_mean(per_sample_losses)\n",
        "  gradients = tape.gradient(average_loss, model.weights)\n",
        "  update_weights(gradients, model.weights)\n",
        "  return average_loss\n",
        "\n",
        "learning_rate = 1e-3\n",
        "\n",
        "def update_weights(gradients, weights):\n",
        "  for g, w in zip(gradients, weights):\n",
        "    w.assign_sub(g * learning_rate) # w = w - g * learning_rate\n",
        "\n",
        "# 실제로는 optimizer를 사용함\n",
        "\n",
        "from tensorflow.keras import optimizers\n",
        "\n",
        "optimizer = optimizers.SGD(learning_rate = 1e-3)\n",
        "\n",
        "def update_weights_optimizer(gradients, weights):\n",
        "  optimizer.apply_gradients(zip(gradients, weights))"
      ],
      "metadata": {
        "id": "kCGwG0_8bP6_"
      },
      "execution_count": 75,
      "outputs": []
    },
    {
      "cell_type": "code",
      "source": [
        "# 전체 훈련 loop 구성\n",
        "\n",
        "\n",
        "def fit(model, images, labels, epochs, batch_size = 128):\n",
        "  for epoch_counter in range(epochs):\n",
        "    print(f'epoch : {epoch_counter}')\n",
        "    batch_generator = BatchGenerator(images, labels)\n",
        "    for batch_counter in range(batch_generator.num_batches):\n",
        "      images_batch, labels_batch = batch_generator.next()\n",
        "      loss = one_training_step(model, images_batch, labels_batch)\n",
        "      if batch_counter % 100 == 0:\n",
        "        print(f'{batch_counter}번째 배치 손실 : {loss : .2f}')"
      ],
      "metadata": {
        "id": "alIpebsgcb7Q"
      },
      "execution_count": 76,
      "outputs": []
    },
    {
      "cell_type": "code",
      "source": [
        "from tensorflow.keras.datasets import mnist\n",
        "\n",
        "(train_images, train_labels), (test_images, test_labels) = mnist.load_data()\n",
        "\n",
        "\n",
        "train_images = train_images.reshape((60000, 28 * 28))\n",
        "test_images = test_images.reshape((10000, 28 * 28))\n",
        "\n",
        "train_images = train_images.astype('float32') / 255\n",
        "test_images = test_images.astype('float32') / 255\n",
        "\n",
        "fit(model, train_images, train_labels, epochs = 10, batch_size = 128)"
      ],
      "metadata": {
        "colab": {
          "base_uri": "https://localhost:8080/"
        },
        "id": "0KwHylvBdLuA",
        "outputId": "541084a1-1d4b-477d-fb79-4b0505919973"
      },
      "execution_count": 77,
      "outputs": [
        {
          "output_type": "stream",
          "name": "stdout",
          "text": [
            "epoch : 0\n",
            "0번째 배치 손실 :  4.46\n",
            "100번째 배치 손실 :  2.23\n",
            "200번째 배치 손실 :  2.20\n",
            "300번째 배치 손실 :  2.05\n",
            "400번째 배치 손실 :  2.18\n",
            "epoch : 1\n",
            "0번째 배치 손실 :  1.88\n",
            "100번째 배치 손실 :  1.87\n",
            "200번째 배치 손실 :  1.83\n",
            "300번째 배치 손실 :  1.67\n",
            "400번째 배치 손실 :  1.78\n",
            "epoch : 2\n",
            "0번째 배치 손실 :  1.56\n",
            "100번째 배치 손실 :  1.58\n",
            "200번째 배치 손실 :  1.50\n",
            "300번째 배치 손실 :  1.40\n",
            "400번째 배치 손실 :  1.47\n",
            "epoch : 3\n",
            "0번째 배치 손실 :  1.31\n",
            "100번째 배치 손실 :  1.34\n",
            "200번째 배치 손실 :  1.23\n",
            "300번째 배치 손실 :  1.18\n",
            "400번째 배치 손실 :  1.24\n",
            "epoch : 4\n",
            "0번째 배치 손실 :  1.12\n",
            "100번째 배치 손실 :  1.15\n",
            "200번째 배치 손실 :  1.04\n",
            "300번째 배치 손실 :  1.02\n",
            "400번째 배치 손실 :  1.08\n",
            "epoch : 5\n",
            "0번째 배치 손실 :  0.97\n",
            "100번째 배치 손실 :  1.01\n",
            "200번째 배치 손실 :  0.90\n",
            "300번째 배치 손실 :  0.91\n",
            "400번째 배치 손실 :  0.97\n",
            "epoch : 6\n",
            "0번째 배치 손실 :  0.87\n",
            "100번째 배치 손실 :  0.91\n",
            "200번째 배치 손실 :  0.80\n",
            "300번째 배치 손실 :  0.82\n",
            "400번째 배치 손실 :  0.88\n",
            "epoch : 7\n",
            "0번째 배치 손실 :  0.79\n",
            "100번째 배치 손실 :  0.82\n",
            "200번째 배치 손실 :  0.72\n",
            "300번째 배치 손실 :  0.75\n",
            "400번째 배치 손실 :  0.82\n",
            "epoch : 8\n",
            "0번째 배치 손실 :  0.72\n",
            "100번째 배치 손실 :  0.75\n",
            "200번째 배치 손실 :  0.66\n",
            "300번째 배치 손실 :  0.70\n",
            "400번째 배치 손실 :  0.77\n",
            "epoch : 9\n",
            "0번째 배치 손실 :  0.67\n",
            "100번째 배치 손실 :  0.70\n",
            "200번째 배치 손실 :  0.61\n",
            "300번째 배치 손실 :  0.65\n",
            "400번째 배치 손실 :  0.73\n"
          ]
        }
      ]
    },
    {
      "cell_type": "code",
      "source": [
        "# 평가하기\n",
        "\n",
        "\n",
        "predictions = model(test_images)\n",
        "predictions = predictions.numpy()\n",
        "predicted_labels = np.argmax(predictions, axis = 1)\n",
        "matches = predicted_labels == test_labels\n",
        "print(f'정확도 : {matches.mean():.2f}')"
      ],
      "metadata": {
        "colab": {
          "base_uri": "https://localhost:8080/"
        },
        "id": "NUsPxw0ldbFg",
        "outputId": "64bb71b4-95da-4a26-a2d4-1fa6821abf85"
      },
      "execution_count": 78,
      "outputs": [
        {
          "output_type": "stream",
          "name": "stdout",
          "text": [
            "정확도 : 0.82\n"
          ]
        }
      ]
    },
    {
      "cell_type": "code",
      "source": [],
      "metadata": {
        "id": "Ep8kDPtWeEYA"
      },
      "execution_count": null,
      "outputs": []
    }
  ]
}